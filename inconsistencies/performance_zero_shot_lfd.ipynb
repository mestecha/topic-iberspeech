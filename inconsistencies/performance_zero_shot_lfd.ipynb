{
 "cells": [
  {
   "cell_type": "code",
   "execution_count": 7,
   "metadata": {},
   "outputs": [
    {
     "name": "stdout",
     "output_type": "stream",
     "text": [
      "Collecting openpyxl\n",
      "  Downloading openpyxl-3.0.10-py2.py3-none-any.whl (242 kB)\n",
      "Collecting et-xmlfile\n",
      "  Downloading et_xmlfile-1.1.0-py3-none-any.whl (4.7 kB)\n",
      "Installing collected packages: et-xmlfile, openpyxl\n",
      "Successfully installed et-xmlfile-1.1.0 openpyxl-3.0.10\n"
     ]
    },
    {
     "name": "stderr",
     "output_type": "stream",
     "text": [
      "WARNING: You are using pip version 21.3.1; however, version 22.2.2 is available.\n",
      "You should consider upgrading via the 'C:\\Users\\lfdha\\AppData\\Local\\Microsoft\\WindowsApps\\PythonSoftwareFoundation.Python.3.9_qbz5n2kfra8p0\\python.exe -m pip install --upgrade pip' command.\n"
     ]
    }
   ],
   "source": [
    "!pip install openpyxl"
   ]
  },
  {
   "cell_type": "code",
   "execution_count": 2,
   "metadata": {},
   "outputs": [],
   "source": [
    "from sklearn.preprocessing import OrdinalEncoder\n",
    "from sklearn.preprocessing import LabelEncoder\n",
    "from sklearn.metrics import f1_score, precision_score, recall_score, classification_report\n",
    "import numpy as np\n",
    "import plotly.express as px\n",
    "import pandas as pd\n",
    "import pickle\n",
    "import warnings\n",
    "import openpyxl"
   ]
  },
  {
   "cell_type": "code",
   "execution_count": 3,
   "metadata": {},
   "outputs": [],
   "source": [
    "def guardar_datos(datos, path):\n",
    "    with open(path, \"wb\") as f:\n",
    "        pickle.dump(datos,f)\n",
    "\n",
    "def cargar_datos(path):\n",
    "    with open(path, \"rb\") as f:\n",
    "        return pickle.load(f)"
   ]
  },
  {
   "cell_type": "code",
   "execution_count": 4,
   "metadata": {},
   "outputs": [],
   "source": [
    "path_df_with_topics = r'C:\\Users\\lfdha\\Dropbox\\Papers\\Iberspeech_2022\\Daily-Dialog-Zero-Shot.csv'\n",
    "df_topics = pd.read_csv(path_df_with_topics)\n",
    "df_topics = df_topics.loc[0:1000]\n",
    "df_topics['topic'] = df_topics['topic'].str.capitalize()\n",
    "df_topics['topic'] = df_topics['topic'].fillna('Other')\n",
    "df_topics['topic'] = df_topics['topic'].str.replace('Nan', 'Other')\n",
    "df_topics['topic'] = df_topics['topic'].str.replace('Teacher', 'Education/academic')\n",
    "df_topics['topic'] = df_topics['topic'].str.replace('Climate conditions', 'Weather')\n",
    "df_topics['topic'] = df_topics['topic'].str.replace('Newspaper', 'News')\n",
    "df_topics.loc[df_topics['topic_score'] < 0.1, 'topic'] = 'Other'\n",
    "df_topics['topic'] = df_topics['topic'].str.replace('Art', 'Other')\n",
    "df_topics['topic'] = df_topics['topic'].str.replace('Politics', 'Other')\n",
    "df_topics['topic'] = df_topics['topic'].str.replace('Videogames', 'Other')\n",
    "df_topics['topic'] = df_topics['topic'].str.replace('Science', 'Other')\n",
    "df_topics['topic'] = df_topics['topic'].str.replace('Education/academic', 'Other')\n",
    "df_topics['topic'] = df_topics['topic'].str.replace('News', 'Other')\n",
    "# df_topics['topic'] = df_topics['topic'].str.replace('Photography', 'Other')\n",
    "# df_topics['topic'] = df_topics['topic'].str.replace('Weather', 'Other')\n",
    "#df_topics.drop(df_topics[(df_topics['topic'] == 'Politics') | (df_topics['topic'] == 'Videogames')| (df_topics['topic'] == 'Science')].index, inplace=True)\n",
    "df_topics.reset_index(inplace=True)\n"
   ]
  },
  {
   "cell_type": "code",
   "execution_count": 5,
   "metadata": {},
   "outputs": [],
   "source": [
    "path_df_tagged_topics = r'C:\\Users\\lfdha\\Dropbox\\Papers\\Iberspeech_2022\\Daily-Dialog-Zero-Shot_for_labelling_ALL.xlsx'\n",
    "df_tagged = pd.read_excel(path_df_tagged_topics, index_col=0)\n",
    "df_tagged['topic'] = df_tagged['topic'].str.capitalize()\n",
    "df_tagged['topic'] = df_tagged['topic'].fillna('Other')\n",
    "#df_tagged.drop(df_tagged[(df_tagged['topic'] == 'Politics') | (df_tagged['topic'] == 'Videogames')| (df_tagged['topic'] == 'Science')].index, inplace=True)\n",
    "#df_tagged.drop(df_tagged[(df_tagged['topic'] == 'Politics')].index, inplace=True)\n",
    "df_tagged['topic'] = df_tagged['topic'].str.replace('Art', 'Other')\n",
    "df_tagged['topic'] = df_tagged['topic'].str.replace('Politics', 'Other')\n",
    "df_tagged['topic'] = df_tagged['topic'].str.replace('Videogames', 'Other')\n",
    "df_tagged['topic'] = df_tagged['topic'].str.replace('Science', 'Other')\n",
    "df_tagged['topic'] = df_tagged['topic'].str.replace('Education/academic', 'Other')\n",
    "df_tagged['topic'] = df_tagged['topic'].str.replace('News', 'Other')\n",
    "# df_tagged['topic'] = df_tagged['topic'].str.replace('Photography', 'Other')\n",
    "# df_tagged['topic'] = df_tagged['topic'].str.replace('Weather', 'Other')\n",
    "\n",
    "df_tagged.reset_index(inplace=True)\n"
   ]
  },
  {
   "cell_type": "code",
   "execution_count": 7,
   "metadata": {},
   "outputs": [],
   "source": [
    "le = LabelEncoder().fit(df_topics['topic'])\n",
    "possible_topics_mapping = dict()\n",
    "possible_topics_mapping['topic_encoded'] = {l: i for i,l in enumerate(le.classes_)}\n",
    "df_topics['topic_encoded'] = df_topics['topic']\n",
    "df_tagged['topic_encoded'] = df_tagged['topic']\n",
    "\n",
    "df_topics = df_topics.replace(possible_topics_mapping)\n",
    "df_tagged = df_tagged.replace(possible_topics_mapping)"
   ]
  },
  {
   "cell_type": "code",
   "execution_count": 8,
   "metadata": {},
   "outputs": [],
   "source": [
    "y_true = list(df_tagged['topic_encoded'].values)\n",
    "y_pred = list(df_topics['topic_encoded'].values)"
   ]
  },
  {
   "cell_type": "code",
   "execution_count": 48,
   "metadata": {},
   "outputs": [],
   "source": [
    "def get_most_likely_topic(data, threshold=0.6):\n",
    "    list_topic_scores = ['best_first_level_score',\n",
    "                        'best_second_level_score',\n",
    "                        'best_third_level_score']\n",
    "\n",
    "    max_df_idx = data[list_topic_scores].idxmax(axis=1)\n",
    "    max_df_value = data[list_topic_scores].max(axis=1)\n",
    "    topics = []\n",
    "    for idx, best_topic in enumerate(max_df_idx):\n",
    "        if 'first' in str(best_topic) and max_df_value[idx]>=threshold:\n",
    "            topics.append(data['best_first_level_topic'].loc[idx])\n",
    "            \n",
    "        elif 'second' in str(best_topic) and max_df_value[idx]>=threshold:\n",
    "            topics.append(data['best_second_level_topic'].loc[idx])\n",
    "        elif 'third' in str(best_topic)and max_df_value[idx]>=threshold:\n",
    "            if data['best_third_level_topic'].loc[idx] == 'Photography':\n",
    "                topics.append('Other')\n",
    "            else:\n",
    "                topics.append(data['best_third_level_topic'].loc[idx])\n",
    "        else:\n",
    "            topics.append('Other')\n",
    "    return topics\n",
    "\n",
    "def get_topic_threshold(data, threshold=0.6):\n",
    "    topics = [data['topic'].loc[idx] if data['topic_score'].loc[idx] > threshold else 'Other' for idx in range(data['topic'].shape[0]) ]\n",
    "    return topics\n",
    "\n",
    "\n",
    "def check_present_labels(y_true, y_pred, labels):\n",
    "    present_labels = []\n",
    "    present_labels.extend(y_true)\n",
    "    present_labels.extend(y_pred)\n",
    "    present_labels = list(set(present_labels))\n",
    "    enc_labels = np.arange(0,len(labels))\n",
    "    if len(present_labels) != len(labels):\n",
    "        for i in enc_labels:\n",
    "            if i not in present_labels:\n",
    "                print(i)\n",
    "                y_pred.append(i)\n",
    "                y_true.append(0)\n",
    "    return y_true, y_pred\n",
    "\n",
    "def get_metrics(df_tagged, topics):\n",
    "    df_topics = pd.DataFrame()\n",
    "    df_topics['topic'] = topics\n",
    "    df_topics['topic'] = df_topics['topic'].fillna('Other')\n",
    "    df_topics['topic'] = df_topics['topic'].str.capitalize()\n",
    "    df_topics['topic'] = df_topics['topic'].str.replace('media', \n",
    "                                                        'Media')\n",
    "    df_topics['topic_encoded'] = df_topics['topic']\n",
    "    df_topics = df_topics.replace(possible_topics_mapping)\n",
    "\n",
    "    possible_topics = list()\n",
    "    possible_topics.extend(df_topics['topic'].unique())\n",
    "    possible_topics.extend(df_tagged['topic'].unique())\n",
    "    possible_topics = list(set(possible_topics))\n",
    "\n",
    "    labels = list(possible_topics_mapping['topic_encoded'].keys())\n",
    "\n",
    "    y_true = list(df_tagged['topic_encoded'].values)\n",
    "    y_pred = list(df_topics['topic_encoded'].values)\n",
    "\n",
    "    y_true, y_pred = check_present_labels(y_true, y_pred, labels)\n",
    "\n",
    "    f1scores = f1_score(y_true, y_pred, average=None)\n",
    "    f1scores_weighted = f1_score(y_true, y_pred, average='weighted')\n",
    "    f1scores_micro = f1_score(y_true, y_pred, average='micro')\n",
    "    f1scores_macro = f1_score(y_true, y_pred, average='macro')\n",
    "    precscores = precision_score(y_true, y_pred, average=None)\n",
    "    recallscores = recall_score(y_true, y_pred, average=None)\n",
    "\n",
    "    f1scores = f1_score(y_true, y_pred, average=None, zero_division=0)\n",
    "    precscores = precision_score(y_true, y_pred, average=None, zero_division=0)\n",
    "    recallscores = recall_score(y_true, y_pred, average=None, zero_division=0)\n",
    "    print(classification_report(y_true, y_pred, target_names=labels))\n",
    "    return labels, f1scores, precscores, recallscores,f1scores_weighted, f1scores_micro, f1scores_macro\n",
    "\n",
    "def get_df_transponse(df):\n",
    "    df_transposed = df.T\n",
    "    df_transposed = df_transposed.rename(columns=df_transposed.iloc[0])\n",
    "    df_transposed = df_transposed.drop(df_transposed.index[0])\n",
    "    return df_transposed\n",
    "\n",
    "def representation(df, labels, metric):\n",
    "    import plotly.graph_objects as go\n",
    "    import random\n",
    "    df_ = df.copy()\n",
    "    df_.reset_index(inplace=True)\n",
    "\n",
    "    fig = go.Figure()\n",
    "    colors = ['aliceblue', 'antiquewhite', 'aqua', 'aquamarine', 'azure', 'beige', 'bisque', 'black', 'blanchedalmond', 'blue', 'blueviolet', 'brown', 'burlywood', 'cadetblue', 'chartreuse', 'chocolate', 'coral', 'cornflowerblue', 'cornsilk', 'crimson', 'cyan', 'darkblue', 'darkcyan', 'darkgoldenrod', 'darkgray', 'darkgrey', 'darkgreen', 'darkkhaki', 'darkmagenta', 'darkolivegreen', 'darkorange', 'darkorchid', 'darkred', 'darksalmon', 'darkseagreen', 'darkslateblue', 'darkslategray', 'darkslategrey', 'darkturquoise', 'darkviolet', 'deeppink', 'deepskyblue', 'dimgray', 'dimgrey', 'dodgerblue', 'firebrick', 'floralwhite', 'forestgreen', 'fuchsia', 'gainsboro', 'ghostwhite', 'gold', 'goldenrod', 'gray', 'grey', 'green', 'greenyellow', 'honeydew', 'hotpink', 'indianred', 'indigo', 'ivory', 'khaki', 'lavender', 'lavenderblush', 'lawngreen', 'lemonchiffon', 'lightblue', 'lightcoral', 'lightcyan', 'lightgoldenrodyellow', 'lightgray', 'lightgrey', 'lightgreen', 'lightpink', 'lightsalmon', 'lightseagreen', 'lightskyblue', 'lightslategray', 'lightslategrey', 'lightsteelblue', 'lightyellow', 'lime', 'limegreen', 'linen', 'magenta', 'maroon', 'mediumaquamarine', 'mediumblue', 'mediumorchid', 'mediumpurple', 'mediumseagreen', 'mediumslateblue', 'mediumspringgreen', 'mediumturquoise', 'mediumvioletred', 'midnightblue', 'mintcream', 'mistyrose', 'moccasin', 'navajowhite', 'navy', 'oldlace', 'olive', 'olivedrab', 'orange', 'orangered', 'orchid', 'palegoldenrod', 'palegreen', 'paleturquoise', 'palevioletred', 'papayawhip', 'peachpuff', 'peru', 'pink', 'plum', 'powderblue', 'purple', 'red', 'rosybrown', 'royalblue', 'saddlebrown', 'salmon', 'sandybrown', 'seagreen', 'seashell', 'sienna', 'silver', 'skyblue', 'slateblue', 'slategray', 'slategrey', 'snow', 'springgreen', 'steelblue', 'tan', 'teal', 'thistle', 'tomato', 'turquoise', 'violet', 'wheat', 'white', 'whitesmoke', 'yellow', 'yellowgreen']\n",
    "    widths = [4]\n",
    "    dashes = ['dash', 'dot', 'dashdot', 'solid']\n",
    "    #thresholds = [0.2, 0.25, 0.3, 0.35, 0.4, 0.45, 0.5, 0.55, 0.6, 0.65, 0.7, 0.75, 0.8, 0.85, 0.9, 0.95]\n",
    "    thresholds = np.arange(0.2, 1.0, 0.1).tolist()\n",
    "    # Create and style traces\n",
    "    for i, l in enumerate(df_.columns):\n",
    "        if l == 'index':\n",
    "            continue\n",
    "        r = random.randint(0, len(colors))\n",
    "        w = i % len(widths)\n",
    "        d = i % len(dashes)\n",
    "        #fig.add_trace(go.Scatter(x=thresholds, y=df_[l].tolist(), name=l, line=dict(color=colors[r], width=widths[w], dash=dashes[d])))\n",
    "        fig.add_trace(go.Scatter(x=thresholds, y=df_[l].tolist(), mode = 'lines', name=l, line=dict(width=widths[w], dash=dashes[d])))\n",
    "\n",
    "    # Edit the layout\n",
    "    fig.update_layout(title=metric,\n",
    "                    xaxis_title='ZS Threshold',\n",
    "                    yaxis_title='Value', height=600)\n",
    "\n",
    "\n",
    "    fig.update_layout(\n",
    "        font=dict(\n",
    "            #family=\"Courier New, monospace\",\n",
    "            size=22,  # Set the font size here\n",
    "        )\n",
    "    ) \n",
    "\n",
    "    #fig = px.line(df_, x=\"index\", y=labels,\n",
    "    #              labels={\"index\": \"ZS Threshold\"},\n",
    "    #              title=metric, markers=True)\n",
    "    fig.show()"
   ]
  },
  {
   "cell_type": "code",
   "execution_count": 44,
   "metadata": {},
   "outputs": [
    {
     "name": "stdout",
     "output_type": "stream",
     "text": [
      "0.2\n",
      "              precision    recall  f1-score   support\n",
      "\n",
      "     Animals       0.43      0.83      0.57        12\n",
      "       Books       0.29      0.50      0.36         4\n",
      "        Cars       0.65      0.57      0.61        56\n",
      "      Family       0.23      0.56      0.33        39\n",
      "     Fashion       0.29      0.69      0.40       108\n",
      "     Finance       0.60      0.63      0.61       119\n",
      "        Food       0.87      0.79      0.83       184\n",
      "      Movies       0.33      0.50      0.40         6\n",
      "       Music       0.56      1.00      0.71        15\n",
      "       Other       0.69      0.24      0.35       419\n",
      " Photography       0.11      0.25      0.15         4\n",
      "      Sports       0.56      0.85      0.68        27\n",
      "     Weather       0.12      0.71      0.21         7\n",
      "\n",
      "    accuracy                           0.51      1000\n",
      "   macro avg       0.44      0.63      0.48      1000\n",
      "weighted avg       0.63      0.51      0.51      1000\n",
      "\n",
      "0.30000000000000004\n",
      "              precision    recall  f1-score   support\n",
      "\n",
      "     Animals       0.43      0.83      0.57        12\n",
      "       Books       0.29      0.50      0.36         4\n",
      "        Cars       0.67      0.57      0.62        56\n",
      "      Family       0.26      0.56      0.35        39\n",
      "     Fashion       0.31      0.69      0.42       108\n",
      "     Finance       0.60      0.63      0.61       119\n",
      "        Food       0.87      0.79      0.83       184\n",
      "      Movies       0.38      0.50      0.43         6\n",
      "       Music       0.56      1.00      0.71        15\n",
      "       Other       0.72      0.32      0.44       419\n",
      " Photography       0.17      0.25      0.20         4\n",
      "      Sports       0.56      0.85      0.68        27\n",
      "     Weather       0.14      0.71      0.23         7\n",
      "\n",
      "    accuracy                           0.54      1000\n",
      "   macro avg       0.46      0.63      0.50      1000\n",
      "weighted avg       0.65      0.54      0.55      1000\n",
      "\n",
      "0.4000000000000001\n",
      "              precision    recall  f1-score   support\n",
      "\n",
      "     Animals       0.43      0.83      0.57        12\n",
      "       Books       0.33      0.50      0.40         4\n",
      "        Cars       0.68      0.57      0.62        56\n",
      "      Family       0.32      0.54      0.40        39\n",
      "     Fashion       0.34      0.68      0.45       108\n",
      "     Finance       0.61      0.63      0.62       119\n",
      "        Food       0.90      0.79      0.84       184\n",
      "      Movies       0.43      0.50      0.46         6\n",
      "       Music       0.56      1.00      0.71        15\n",
      "       Other       0.71      0.42      0.53       419\n",
      " Photography       0.25      0.25      0.25         4\n",
      "      Sports       0.59      0.85      0.70        27\n",
      "     Weather       0.16      0.71      0.26         7\n",
      "\n",
      "    accuracy                           0.58      1000\n",
      "   macro avg       0.49      0.64      0.53      1000\n",
      "weighted avg       0.66      0.58      0.59      1000\n",
      "\n",
      "0.5000000000000001\n",
      "              precision    recall  f1-score   support\n",
      "\n",
      "     Animals       0.41      0.75      0.53        12\n",
      "       Books       0.33      0.50      0.40         4\n",
      "        Cars       0.69      0.52      0.59        56\n",
      "      Family       0.38      0.51      0.43        39\n",
      "     Fashion       0.37      0.63      0.47       108\n",
      "     Finance       0.61      0.61      0.61       119\n",
      "        Food       0.91      0.79      0.85       184\n",
      "      Movies       0.43      0.50      0.46         6\n",
      "       Music       0.56      1.00      0.71        15\n",
      "       Other       0.71      0.53      0.61       419\n",
      " Photography       0.33      0.25      0.29         4\n",
      "      Sports       0.61      0.85      0.71        27\n",
      "     Weather       0.20      0.71      0.31         7\n",
      "\n",
      "    accuracy                           0.62      1000\n",
      "   macro avg       0.50      0.63      0.54      1000\n",
      "weighted avg       0.67      0.62      0.63      1000\n",
      "\n",
      "0.6000000000000001\n",
      "              precision    recall  f1-score   support\n",
      "\n",
      "     Animals       0.41      0.75      0.53        12\n",
      "       Books       0.33      0.50      0.40         4\n",
      "        Cars       0.73      0.48      0.58        56\n",
      "      Family       0.39      0.46      0.42        39\n",
      "     Fashion       0.42      0.61      0.50       108\n",
      "     Finance       0.62      0.61      0.61       119\n",
      "        Food       0.93      0.79      0.85       184\n",
      "      Movies       0.50      0.50      0.50         6\n",
      "       Music       0.60      1.00      0.75        15\n",
      "       Other       0.70      0.61      0.65       419\n",
      " Photography       0.50      0.25      0.33         4\n",
      "      Sports       0.62      0.85      0.72        27\n",
      "     Weather       0.20      0.71      0.31         7\n",
      "\n",
      "    accuracy                           0.64      1000\n",
      "   macro avg       0.53      0.62      0.55      1000\n",
      "weighted avg       0.68      0.64      0.65      1000\n",
      "\n",
      "0.7000000000000002\n",
      "              precision    recall  f1-score   support\n",
      "\n",
      "     Animals       0.43      0.75      0.55        12\n",
      "       Books       0.33      0.50      0.40         4\n",
      "        Cars       0.75      0.43      0.55        56\n",
      "      Family       0.46      0.46      0.46        39\n",
      "     Fashion       0.49      0.57      0.53       108\n",
      "     Finance       0.63      0.59      0.61       119\n",
      "        Food       0.93      0.77      0.85       184\n",
      "      Movies       0.50      0.50      0.50         6\n",
      "       Music       0.62      1.00      0.77        15\n",
      "       Other       0.67      0.68      0.68       419\n",
      " Photography       0.50      0.25      0.33         4\n",
      "      Sports       0.67      0.81      0.73        27\n",
      "     Weather       0.24      0.71      0.36         7\n",
      "\n",
      "    accuracy                           0.66      1000\n",
      "   macro avg       0.56      0.62      0.56      1000\n",
      "weighted avg       0.68      0.66      0.66      1000\n",
      "\n",
      "0.8000000000000003\n",
      "              precision    recall  f1-score   support\n",
      "\n",
      "     Animals       0.43      0.75      0.55        12\n",
      "       Books       0.40      0.50      0.44         4\n",
      "        Cars       0.79      0.41      0.54        56\n",
      "      Family       0.53      0.46      0.49        39\n",
      "     Fashion       0.52      0.48      0.50       108\n",
      "     Finance       0.63      0.50      0.56       119\n",
      "        Food       0.93      0.74      0.82       184\n",
      "      Movies       0.50      0.50      0.50         6\n",
      "       Music       0.65      1.00      0.79        15\n",
      "       Other       0.65      0.77      0.70       419\n",
      " Photography       1.00      0.25      0.40         4\n",
      "      Sports       0.69      0.74      0.71        27\n",
      "     Weather       0.31      0.71      0.43         7\n",
      "\n",
      "    accuracy                           0.66      1000\n",
      "   macro avg       0.62      0.60      0.57      1000\n",
      "weighted avg       0.68      0.66      0.66      1000\n",
      "\n"
     ]
    }
   ],
   "source": [
    "warnings.filterwarnings('ignore') \n",
    "#thresholds = [0.2, 0.25, 0.3, 0.35, 0.4, 0.45, 0.5, 0.55, 0.6, 0.65, 0.7, 0.75, 0.8, 0.85, 0.9, 0.95]\n",
    "#thresholds = [0.2, 0.3, 0.4, 0.5, 0.6, 0.7, 0.8, 0.9]\n",
    "thresholds = np.arange(0.2, 1.0, 0.1).tolist()\n",
    "first = True\n",
    "col_cont=1\n",
    "#df_topics.drop(df_topics[(df_topics['topic'] == 'Politics') | (df_topics['topic'] == 'Videogames')].index, inplace=True)\n",
    "#df_topics.reset_index(inplace=True)\n",
    "\n",
    "for threshold in thresholds:\n",
    "    print(threshold)\n",
    "    topics = get_topic_threshold(df_topics, threshold=threshold)\n",
    "    labels,f1scores,precscores,recallscores,_,_,_ = get_metrics(df_tagged, topics)\n",
    "    if first == True:\n",
    "        # Create df\n",
    "        f1_df = pd.DataFrame()\n",
    "        prec_df = pd.DataFrame()\n",
    "        recall_df = pd.DataFrame()\n",
    "        f1_df['labels'] = labels\n",
    "        prec_df['labels'] = labels\n",
    "        recall_df['labels'] = labels\n",
    "    first=False\n",
    "    f1_df[str(threshold)] = f1scores\n",
    "    prec_df[str(threshold)] = precscores\n",
    "    recall_df[str(threshold)] = recallscores\n",
    "\n",
    "f1_df_transposed = get_df_transponse(f1_df)\n",
    "prec_df_transposed = get_df_transponse(prec_df)\n",
    "recall_df_transposed = get_df_transponse(recall_df)"
   ]
  },
  {
   "cell_type": "code",
   "execution_count": 49,
   "metadata": {},
   "outputs": [
    {
     "data": {
      "application/vnd.plotly.v1+json": {
       "config": {
        "plotlyServerURL": "https://plot.ly"
       },
       "data": [
        {
         "line": {
          "dash": "dot",
          "width": 4
         },
         "mode": "lines",
         "name": "Animals",
         "type": "scatter",
         "x": [
          0.2,
          0.30000000000000004,
          0.4000000000000001,
          0.5000000000000001,
          0.6000000000000001,
          0.7000000000000002,
          0.8000000000000003,
          0.9000000000000001
         ],
         "y": [
          0.5714285714285714,
          0.5714285714285714,
          0.5714285714285714,
          0.5294117647058824,
          0.5294117647058824,
          0.5454545454545454,
          0.5454545454545454
         ]
        },
        {
         "line": {
          "dash": "dashdot",
          "width": 4
         },
         "mode": "lines",
         "name": "Books",
         "type": "scatter",
         "x": [
          0.2,
          0.30000000000000004,
          0.4000000000000001,
          0.5000000000000001,
          0.6000000000000001,
          0.7000000000000002,
          0.8000000000000003,
          0.9000000000000001
         ],
         "y": [
          0.36363636363636365,
          0.36363636363636365,
          0.4,
          0.4,
          0.4,
          0.4,
          0.4444444444444445
         ]
        },
        {
         "line": {
          "dash": "solid",
          "width": 4
         },
         "mode": "lines",
         "name": "Cars",
         "type": "scatter",
         "x": [
          0.2,
          0.30000000000000004,
          0.4000000000000001,
          0.5000000000000001,
          0.6000000000000001,
          0.7000000000000002,
          0.8000000000000003,
          0.9000000000000001
         ],
         "y": [
          0.6095238095238094,
          0.6153846153846153,
          0.6213592233009708,
          0.5918367346938775,
          0.5806451612903226,
          0.5454545454545454,
          0.5411764705882354
         ]
        },
        {
         "line": {
          "dash": "dash",
          "width": 4
         },
         "mode": "lines",
         "name": "Family",
         "type": "scatter",
         "x": [
          0.2,
          0.30000000000000004,
          0.4000000000000001,
          0.5000000000000001,
          0.6000000000000001,
          0.7000000000000002,
          0.8000000000000003,
          0.9000000000000001
         ],
         "y": [
          0.33082706766917297,
          0.3548387096774194,
          0.4038461538461538,
          0.43478260869565216,
          0.4235294117647059,
          0.46153846153846156,
          0.4931506849315069
         ]
        },
        {
         "line": {
          "dash": "dot",
          "width": 4
         },
         "mode": "lines",
         "name": "Fashion",
         "type": "scatter",
         "x": [
          0.2,
          0.30000000000000004,
          0.4000000000000001,
          0.5000000000000001,
          0.6000000000000001,
          0.7000000000000002,
          0.8000000000000003,
          0.9000000000000001
         ],
         "y": [
          0.40431266846361186,
          0.4240687679083095,
          0.45201238390092874,
          0.46735395189003437,
          0.4981132075471699,
          0.5276595744680851,
          0.5
         ]
        },
        {
         "line": {
          "dash": "dashdot",
          "width": 4
         },
         "mode": "lines",
         "name": "Finance",
         "type": "scatter",
         "x": [
          0.2,
          0.30000000000000004,
          0.4000000000000001,
          0.5000000000000001,
          0.6000000000000001,
          0.7000000000000002,
          0.8000000000000003,
          0.9000000000000001
         ],
         "y": [
          0.6122448979591836,
          0.6147540983606556,
          0.6198347107438016,
          0.6134453781512605,
          0.6127659574468085,
          0.6086956521739131,
          0.5566037735849056
         ]
        },
        {
         "line": {
          "dash": "solid",
          "width": 4
         },
         "mode": "lines",
         "name": "Food",
         "type": "scatter",
         "x": [
          0.2,
          0.30000000000000004,
          0.4000000000000001,
          0.5000000000000001,
          0.6000000000000001,
          0.7000000000000002,
          0.8000000000000003,
          0.9000000000000001
         ],
         "y": [
          0.8295454545454546,
          0.8295454545454546,
          0.8414985590778099,
          0.846376811594203,
          0.8529411764705883,
          0.8452380952380952,
          0.8242424242424241
         ]
        },
        {
         "line": {
          "dash": "dash",
          "width": 4
         },
         "mode": "lines",
         "name": "Movies",
         "type": "scatter",
         "x": [
          0.2,
          0.30000000000000004,
          0.4000000000000001,
          0.5000000000000001,
          0.6000000000000001,
          0.7000000000000002,
          0.8000000000000003,
          0.9000000000000001
         ],
         "y": [
          0.4,
          0.42857142857142855,
          0.4615384615384615,
          0.4615384615384615,
          0.5,
          0.5,
          0.5
         ]
        },
        {
         "line": {
          "dash": "dot",
          "width": 4
         },
         "mode": "lines",
         "name": "Music",
         "type": "scatter",
         "x": [
          0.2,
          0.30000000000000004,
          0.4000000000000001,
          0.5000000000000001,
          0.6000000000000001,
          0.7000000000000002,
          0.8000000000000003,
          0.9000000000000001
         ],
         "y": [
          0.7142857142857143,
          0.7142857142857143,
          0.7142857142857143,
          0.7142857142857143,
          0.7499999999999999,
          0.7692307692307693,
          0.7894736842105263
         ]
        },
        {
         "line": {
          "dash": "dashdot",
          "width": 4
         },
         "mode": "lines",
         "name": "Other",
         "type": "scatter",
         "x": [
          0.2,
          0.30000000000000004,
          0.4000000000000001,
          0.5000000000000001,
          0.6000000000000001,
          0.7000000000000002,
          0.8000000000000003,
          0.9000000000000001
         ],
         "y": [
          0.3523131672597865,
          0.43781094527363185,
          0.5321375186846039,
          0.6084583901773534,
          0.6479591836734695,
          0.6792899408284023,
          0.7008733624454149
         ]
        },
        {
         "line": {
          "dash": "solid",
          "width": 4
         },
         "mode": "lines",
         "name": "Photography",
         "type": "scatter",
         "x": [
          0.2,
          0.30000000000000004,
          0.4000000000000001,
          0.5000000000000001,
          0.6000000000000001,
          0.7000000000000002,
          0.8000000000000003,
          0.9000000000000001
         ],
         "y": [
          0.15384615384615383,
          0.2,
          0.25,
          0.28571428571428575,
          0.3333333333333333,
          0.3333333333333333,
          0.4
         ]
        },
        {
         "line": {
          "dash": "dash",
          "width": 4
         },
         "mode": "lines",
         "name": "Sports",
         "type": "scatter",
         "x": [
          0.2,
          0.30000000000000004,
          0.4000000000000001,
          0.5000000000000001,
          0.6000000000000001,
          0.7000000000000002,
          0.8000000000000003,
          0.9000000000000001
         ],
         "y": [
          0.6764705882352942,
          0.6764705882352942,
          0.6969696969696971,
          0.7076923076923076,
          0.7187499999999999,
          0.7333333333333333,
          0.7142857142857143
         ]
        },
        {
         "line": {
          "dash": "dot",
          "width": 4
         },
         "mode": "lines",
         "name": "Weather",
         "type": "scatter",
         "x": [
          0.2,
          0.30000000000000004,
          0.4000000000000001,
          0.5000000000000001,
          0.6000000000000001,
          0.7000000000000002,
          0.8000000000000003,
          0.9000000000000001
         ],
         "y": [
          0.20833333333333334,
          0.22727272727272727,
          0.2631578947368421,
          0.3125,
          0.3125,
          0.35714285714285715,
          0.43478260869565216
         ]
        }
       ],
       "layout": {
        "font": {
         "size": 22
        },
        "height": 600,
        "template": {
         "data": {
          "bar": [
           {
            "error_x": {
             "color": "#2a3f5f"
            },
            "error_y": {
             "color": "#2a3f5f"
            },
            "marker": {
             "line": {
              "color": "#E5ECF6",
              "width": 0.5
             },
             "pattern": {
              "fillmode": "overlay",
              "size": 10,
              "solidity": 0.2
             }
            },
            "type": "bar"
           }
          ],
          "barpolar": [
           {
            "marker": {
             "line": {
              "color": "#E5ECF6",
              "width": 0.5
             },
             "pattern": {
              "fillmode": "overlay",
              "size": 10,
              "solidity": 0.2
             }
            },
            "type": "barpolar"
           }
          ],
          "carpet": [
           {
            "aaxis": {
             "endlinecolor": "#2a3f5f",
             "gridcolor": "white",
             "linecolor": "white",
             "minorgridcolor": "white",
             "startlinecolor": "#2a3f5f"
            },
            "baxis": {
             "endlinecolor": "#2a3f5f",
             "gridcolor": "white",
             "linecolor": "white",
             "minorgridcolor": "white",
             "startlinecolor": "#2a3f5f"
            },
            "type": "carpet"
           }
          ],
          "choropleth": [
           {
            "colorbar": {
             "outlinewidth": 0,
             "ticks": ""
            },
            "type": "choropleth"
           }
          ],
          "contour": [
           {
            "colorbar": {
             "outlinewidth": 0,
             "ticks": ""
            },
            "colorscale": [
             [
              0,
              "#0d0887"
             ],
             [
              0.1111111111111111,
              "#46039f"
             ],
             [
              0.2222222222222222,
              "#7201a8"
             ],
             [
              0.3333333333333333,
              "#9c179e"
             ],
             [
              0.4444444444444444,
              "#bd3786"
             ],
             [
              0.5555555555555556,
              "#d8576b"
             ],
             [
              0.6666666666666666,
              "#ed7953"
             ],
             [
              0.7777777777777778,
              "#fb9f3a"
             ],
             [
              0.8888888888888888,
              "#fdca26"
             ],
             [
              1,
              "#f0f921"
             ]
            ],
            "type": "contour"
           }
          ],
          "contourcarpet": [
           {
            "colorbar": {
             "outlinewidth": 0,
             "ticks": ""
            },
            "type": "contourcarpet"
           }
          ],
          "heatmap": [
           {
            "colorbar": {
             "outlinewidth": 0,
             "ticks": ""
            },
            "colorscale": [
             [
              0,
              "#0d0887"
             ],
             [
              0.1111111111111111,
              "#46039f"
             ],
             [
              0.2222222222222222,
              "#7201a8"
             ],
             [
              0.3333333333333333,
              "#9c179e"
             ],
             [
              0.4444444444444444,
              "#bd3786"
             ],
             [
              0.5555555555555556,
              "#d8576b"
             ],
             [
              0.6666666666666666,
              "#ed7953"
             ],
             [
              0.7777777777777778,
              "#fb9f3a"
             ],
             [
              0.8888888888888888,
              "#fdca26"
             ],
             [
              1,
              "#f0f921"
             ]
            ],
            "type": "heatmap"
           }
          ],
          "heatmapgl": [
           {
            "colorbar": {
             "outlinewidth": 0,
             "ticks": ""
            },
            "colorscale": [
             [
              0,
              "#0d0887"
             ],
             [
              0.1111111111111111,
              "#46039f"
             ],
             [
              0.2222222222222222,
              "#7201a8"
             ],
             [
              0.3333333333333333,
              "#9c179e"
             ],
             [
              0.4444444444444444,
              "#bd3786"
             ],
             [
              0.5555555555555556,
              "#d8576b"
             ],
             [
              0.6666666666666666,
              "#ed7953"
             ],
             [
              0.7777777777777778,
              "#fb9f3a"
             ],
             [
              0.8888888888888888,
              "#fdca26"
             ],
             [
              1,
              "#f0f921"
             ]
            ],
            "type": "heatmapgl"
           }
          ],
          "histogram": [
           {
            "marker": {
             "pattern": {
              "fillmode": "overlay",
              "size": 10,
              "solidity": 0.2
             }
            },
            "type": "histogram"
           }
          ],
          "histogram2d": [
           {
            "colorbar": {
             "outlinewidth": 0,
             "ticks": ""
            },
            "colorscale": [
             [
              0,
              "#0d0887"
             ],
             [
              0.1111111111111111,
              "#46039f"
             ],
             [
              0.2222222222222222,
              "#7201a8"
             ],
             [
              0.3333333333333333,
              "#9c179e"
             ],
             [
              0.4444444444444444,
              "#bd3786"
             ],
             [
              0.5555555555555556,
              "#d8576b"
             ],
             [
              0.6666666666666666,
              "#ed7953"
             ],
             [
              0.7777777777777778,
              "#fb9f3a"
             ],
             [
              0.8888888888888888,
              "#fdca26"
             ],
             [
              1,
              "#f0f921"
             ]
            ],
            "type": "histogram2d"
           }
          ],
          "histogram2dcontour": [
           {
            "colorbar": {
             "outlinewidth": 0,
             "ticks": ""
            },
            "colorscale": [
             [
              0,
              "#0d0887"
             ],
             [
              0.1111111111111111,
              "#46039f"
             ],
             [
              0.2222222222222222,
              "#7201a8"
             ],
             [
              0.3333333333333333,
              "#9c179e"
             ],
             [
              0.4444444444444444,
              "#bd3786"
             ],
             [
              0.5555555555555556,
              "#d8576b"
             ],
             [
              0.6666666666666666,
              "#ed7953"
             ],
             [
              0.7777777777777778,
              "#fb9f3a"
             ],
             [
              0.8888888888888888,
              "#fdca26"
             ],
             [
              1,
              "#f0f921"
             ]
            ],
            "type": "histogram2dcontour"
           }
          ],
          "mesh3d": [
           {
            "colorbar": {
             "outlinewidth": 0,
             "ticks": ""
            },
            "type": "mesh3d"
           }
          ],
          "parcoords": [
           {
            "line": {
             "colorbar": {
              "outlinewidth": 0,
              "ticks": ""
             }
            },
            "type": "parcoords"
           }
          ],
          "pie": [
           {
            "automargin": true,
            "type": "pie"
           }
          ],
          "scatter": [
           {
            "marker": {
             "colorbar": {
              "outlinewidth": 0,
              "ticks": ""
             }
            },
            "type": "scatter"
           }
          ],
          "scatter3d": [
           {
            "line": {
             "colorbar": {
              "outlinewidth": 0,
              "ticks": ""
             }
            },
            "marker": {
             "colorbar": {
              "outlinewidth": 0,
              "ticks": ""
             }
            },
            "type": "scatter3d"
           }
          ],
          "scattercarpet": [
           {
            "marker": {
             "colorbar": {
              "outlinewidth": 0,
              "ticks": ""
             }
            },
            "type": "scattercarpet"
           }
          ],
          "scattergeo": [
           {
            "marker": {
             "colorbar": {
              "outlinewidth": 0,
              "ticks": ""
             }
            },
            "type": "scattergeo"
           }
          ],
          "scattergl": [
           {
            "marker": {
             "colorbar": {
              "outlinewidth": 0,
              "ticks": ""
             }
            },
            "type": "scattergl"
           }
          ],
          "scattermapbox": [
           {
            "marker": {
             "colorbar": {
              "outlinewidth": 0,
              "ticks": ""
             }
            },
            "type": "scattermapbox"
           }
          ],
          "scatterpolar": [
           {
            "marker": {
             "colorbar": {
              "outlinewidth": 0,
              "ticks": ""
             }
            },
            "type": "scatterpolar"
           }
          ],
          "scatterpolargl": [
           {
            "marker": {
             "colorbar": {
              "outlinewidth": 0,
              "ticks": ""
             }
            },
            "type": "scatterpolargl"
           }
          ],
          "scatterternary": [
           {
            "marker": {
             "colorbar": {
              "outlinewidth": 0,
              "ticks": ""
             }
            },
            "type": "scatterternary"
           }
          ],
          "surface": [
           {
            "colorbar": {
             "outlinewidth": 0,
             "ticks": ""
            },
            "colorscale": [
             [
              0,
              "#0d0887"
             ],
             [
              0.1111111111111111,
              "#46039f"
             ],
             [
              0.2222222222222222,
              "#7201a8"
             ],
             [
              0.3333333333333333,
              "#9c179e"
             ],
             [
              0.4444444444444444,
              "#bd3786"
             ],
             [
              0.5555555555555556,
              "#d8576b"
             ],
             [
              0.6666666666666666,
              "#ed7953"
             ],
             [
              0.7777777777777778,
              "#fb9f3a"
             ],
             [
              0.8888888888888888,
              "#fdca26"
             ],
             [
              1,
              "#f0f921"
             ]
            ],
            "type": "surface"
           }
          ],
          "table": [
           {
            "cells": {
             "fill": {
              "color": "#EBF0F8"
             },
             "line": {
              "color": "white"
             }
            },
            "header": {
             "fill": {
              "color": "#C8D4E3"
             },
             "line": {
              "color": "white"
             }
            },
            "type": "table"
           }
          ]
         },
         "layout": {
          "annotationdefaults": {
           "arrowcolor": "#2a3f5f",
           "arrowhead": 0,
           "arrowwidth": 1
          },
          "autotypenumbers": "strict",
          "coloraxis": {
           "colorbar": {
            "outlinewidth": 0,
            "ticks": ""
           }
          },
          "colorscale": {
           "diverging": [
            [
             0,
             "#8e0152"
            ],
            [
             0.1,
             "#c51b7d"
            ],
            [
             0.2,
             "#de77ae"
            ],
            [
             0.3,
             "#f1b6da"
            ],
            [
             0.4,
             "#fde0ef"
            ],
            [
             0.5,
             "#f7f7f7"
            ],
            [
             0.6,
             "#e6f5d0"
            ],
            [
             0.7,
             "#b8e186"
            ],
            [
             0.8,
             "#7fbc41"
            ],
            [
             0.9,
             "#4d9221"
            ],
            [
             1,
             "#276419"
            ]
           ],
           "sequential": [
            [
             0,
             "#0d0887"
            ],
            [
             0.1111111111111111,
             "#46039f"
            ],
            [
             0.2222222222222222,
             "#7201a8"
            ],
            [
             0.3333333333333333,
             "#9c179e"
            ],
            [
             0.4444444444444444,
             "#bd3786"
            ],
            [
             0.5555555555555556,
             "#d8576b"
            ],
            [
             0.6666666666666666,
             "#ed7953"
            ],
            [
             0.7777777777777778,
             "#fb9f3a"
            ],
            [
             0.8888888888888888,
             "#fdca26"
            ],
            [
             1,
             "#f0f921"
            ]
           ],
           "sequentialminus": [
            [
             0,
             "#0d0887"
            ],
            [
             0.1111111111111111,
             "#46039f"
            ],
            [
             0.2222222222222222,
             "#7201a8"
            ],
            [
             0.3333333333333333,
             "#9c179e"
            ],
            [
             0.4444444444444444,
             "#bd3786"
            ],
            [
             0.5555555555555556,
             "#d8576b"
            ],
            [
             0.6666666666666666,
             "#ed7953"
            ],
            [
             0.7777777777777778,
             "#fb9f3a"
            ],
            [
             0.8888888888888888,
             "#fdca26"
            ],
            [
             1,
             "#f0f921"
            ]
           ]
          },
          "colorway": [
           "#636efa",
           "#EF553B",
           "#00cc96",
           "#ab63fa",
           "#FFA15A",
           "#19d3f3",
           "#FF6692",
           "#B6E880",
           "#FF97FF",
           "#FECB52"
          ],
          "font": {
           "color": "#2a3f5f"
          },
          "geo": {
           "bgcolor": "white",
           "lakecolor": "white",
           "landcolor": "#E5ECF6",
           "showlakes": true,
           "showland": true,
           "subunitcolor": "white"
          },
          "hoverlabel": {
           "align": "left"
          },
          "hovermode": "closest",
          "mapbox": {
           "style": "light"
          },
          "paper_bgcolor": "white",
          "plot_bgcolor": "#E5ECF6",
          "polar": {
           "angularaxis": {
            "gridcolor": "white",
            "linecolor": "white",
            "ticks": ""
           },
           "bgcolor": "#E5ECF6",
           "radialaxis": {
            "gridcolor": "white",
            "linecolor": "white",
            "ticks": ""
           }
          },
          "scene": {
           "xaxis": {
            "backgroundcolor": "#E5ECF6",
            "gridcolor": "white",
            "gridwidth": 2,
            "linecolor": "white",
            "showbackground": true,
            "ticks": "",
            "zerolinecolor": "white"
           },
           "yaxis": {
            "backgroundcolor": "#E5ECF6",
            "gridcolor": "white",
            "gridwidth": 2,
            "linecolor": "white",
            "showbackground": true,
            "ticks": "",
            "zerolinecolor": "white"
           },
           "zaxis": {
            "backgroundcolor": "#E5ECF6",
            "gridcolor": "white",
            "gridwidth": 2,
            "linecolor": "white",
            "showbackground": true,
            "ticks": "",
            "zerolinecolor": "white"
           }
          },
          "shapedefaults": {
           "line": {
            "color": "#2a3f5f"
           }
          },
          "ternary": {
           "aaxis": {
            "gridcolor": "white",
            "linecolor": "white",
            "ticks": ""
           },
           "baxis": {
            "gridcolor": "white",
            "linecolor": "white",
            "ticks": ""
           },
           "bgcolor": "#E5ECF6",
           "caxis": {
            "gridcolor": "white",
            "linecolor": "white",
            "ticks": ""
           }
          },
          "title": {
           "x": 0.05
          },
          "xaxis": {
           "automargin": true,
           "gridcolor": "white",
           "linecolor": "white",
           "ticks": "",
           "title": {
            "standoff": 15
           },
           "zerolinecolor": "white",
           "zerolinewidth": 2
          },
          "yaxis": {
           "automargin": true,
           "gridcolor": "white",
           "linecolor": "white",
           "ticks": "",
           "title": {
            "standoff": 15
           },
           "zerolinecolor": "white",
           "zerolinewidth": 2
          }
         }
        },
        "title": {
         "text": "F1-Score"
        },
        "xaxis": {
         "title": {
          "text": "ZS Threshold"
         }
        },
        "yaxis": {
         "title": {
          "text": "Value"
         }
        }
       }
      }
     },
     "metadata": {},
     "output_type": "display_data"
    }
   ],
   "source": [
    "f1_columns = list(f1_df_transposed.columns.values)\n",
    "#f1_columns.remove('Politics')\n",
    "#f1_columns.remove('Videogames')\n",
    "labels_aux = labels \n",
    "#labels_aux.remove('Politics')\n",
    "#labels_aux.remove('Videogames')\n",
    "f1_df_transposed_aux = f1_df_transposed[f1_columns]\n",
    "representation(f1_df_transposed_aux, labels_aux, 'F1-Score')"
   ]
  },
  {
   "cell_type": "code",
   "execution_count": 30,
   "metadata": {},
   "outputs": [
    {
     "name": "stdout",
     "output_type": "stream",
     "text": [
      "              precision    recall  f1-score   support\n",
      "\n",
      "     Animals       0.45      0.75      0.56        12\n",
      "       Books       0.40      0.50      0.44         4\n",
      "        Cars       0.83      0.36      0.50        56\n",
      "      Family       0.70      0.41      0.52        39\n",
      "     Fashion       0.64      0.36      0.46       108\n",
      "     Finance       0.67      0.39      0.50       119\n",
      "        Food       0.94      0.72      0.82       184\n",
      "      Movies       1.00      0.50      0.67         6\n",
      "       Music       0.65      1.00      0.79        15\n",
      "       Other       0.62      0.88      0.73       419\n",
      " Photography       1.00      0.25      0.40         4\n",
      "      Sports       0.73      0.59      0.65        27\n",
      "     Weather       0.36      0.57      0.44         7\n",
      "\n",
      "    accuracy                           0.67      1000\n",
      "   macro avg       0.69      0.56      0.58      1000\n",
      "weighted avg       0.70      0.67      0.66      1000\n",
      "\n"
     ]
    },
    {
     "data": {
      "application/vnd.plotly.v1+json": {
       "config": {
        "plotlyServerURL": "https://plot.ly"
       },
       "data": [
        {
         "alignmentgroup": "True",
         "hovertemplate": "labels=%{x}<br>F1=%{y}<extra></extra>",
         "legendgroup": "",
         "marker": {
          "color": "#636efa",
          "pattern": {
           "shape": ""
          }
         },
         "name": "",
         "offsetgroup": "",
         "orientation": "v",
         "showlegend": false,
         "textposition": "auto",
         "type": "bar",
         "x": [
          "Animals",
          "Books",
          "Cars",
          "Family",
          "Fashion",
          "Finance",
          "Food",
          "Movies",
          "Music",
          "Other",
          "Photography",
          "Sports",
          "Weather"
         ],
         "xaxis": "x",
         "y": [
          0.5625000000000001,
          0.4444444444444445,
          0.5,
          0.5161290322580646,
          0.4615384615384615,
          0.4973544973544973,
          0.8184615384615385,
          0.6666666666666666,
          0.7894736842105263,
          0.7251231527093596,
          0.4,
          0.6530612244897959,
          0.4444444444444444
         ],
         "yaxis": "y"
        }
       ],
       "layout": {
        "annotations": [
         {
          "showarrow": false,
          "text": "Weighted=0.658",
          "x": 1,
          "xanchor": "right",
          "xref": "x domain",
          "y": 0.6582975425648195,
          "yanchor": "bottom",
          "yref": "y"
         },
         {
          "showarrow": false,
          "text": "Macro=0.575",
          "x": 1,
          "xanchor": "right",
          "xref": "x domain",
          "y": 0.5753228574290615,
          "yanchor": "bottom",
          "yref": "y"
         }
        ],
        "barmode": "relative",
        "font": {
         "size": 24
        },
        "legend": {
         "tracegroupgap": 0
        },
        "shapes": [
         {
          "line": {
           "color": "green",
           "dash": "dash"
          },
          "type": "line",
          "x0": 0,
          "x1": 1,
          "xref": "x domain",
          "y0": 0.6582975425648195,
          "y1": 0.6582975425648195,
          "yref": "y"
         },
         {
          "line": {
           "color": "red",
           "dash": "dash"
          },
          "type": "line",
          "x0": 0,
          "x1": 1,
          "xref": "x domain",
          "y0": 0.5753228574290615,
          "y1": 0.5753228574290615,
          "yref": "y"
         }
        ],
        "template": {
         "data": {
          "bar": [
           {
            "error_x": {
             "color": "#2a3f5f"
            },
            "error_y": {
             "color": "#2a3f5f"
            },
            "marker": {
             "line": {
              "color": "#E5ECF6",
              "width": 0.5
             },
             "pattern": {
              "fillmode": "overlay",
              "size": 10,
              "solidity": 0.2
             }
            },
            "type": "bar"
           }
          ],
          "barpolar": [
           {
            "marker": {
             "line": {
              "color": "#E5ECF6",
              "width": 0.5
             },
             "pattern": {
              "fillmode": "overlay",
              "size": 10,
              "solidity": 0.2
             }
            },
            "type": "barpolar"
           }
          ],
          "carpet": [
           {
            "aaxis": {
             "endlinecolor": "#2a3f5f",
             "gridcolor": "white",
             "linecolor": "white",
             "minorgridcolor": "white",
             "startlinecolor": "#2a3f5f"
            },
            "baxis": {
             "endlinecolor": "#2a3f5f",
             "gridcolor": "white",
             "linecolor": "white",
             "minorgridcolor": "white",
             "startlinecolor": "#2a3f5f"
            },
            "type": "carpet"
           }
          ],
          "choropleth": [
           {
            "colorbar": {
             "outlinewidth": 0,
             "ticks": ""
            },
            "type": "choropleth"
           }
          ],
          "contour": [
           {
            "colorbar": {
             "outlinewidth": 0,
             "ticks": ""
            },
            "colorscale": [
             [
              0,
              "#0d0887"
             ],
             [
              0.1111111111111111,
              "#46039f"
             ],
             [
              0.2222222222222222,
              "#7201a8"
             ],
             [
              0.3333333333333333,
              "#9c179e"
             ],
             [
              0.4444444444444444,
              "#bd3786"
             ],
             [
              0.5555555555555556,
              "#d8576b"
             ],
             [
              0.6666666666666666,
              "#ed7953"
             ],
             [
              0.7777777777777778,
              "#fb9f3a"
             ],
             [
              0.8888888888888888,
              "#fdca26"
             ],
             [
              1,
              "#f0f921"
             ]
            ],
            "type": "contour"
           }
          ],
          "contourcarpet": [
           {
            "colorbar": {
             "outlinewidth": 0,
             "ticks": ""
            },
            "type": "contourcarpet"
           }
          ],
          "heatmap": [
           {
            "colorbar": {
             "outlinewidth": 0,
             "ticks": ""
            },
            "colorscale": [
             [
              0,
              "#0d0887"
             ],
             [
              0.1111111111111111,
              "#46039f"
             ],
             [
              0.2222222222222222,
              "#7201a8"
             ],
             [
              0.3333333333333333,
              "#9c179e"
             ],
             [
              0.4444444444444444,
              "#bd3786"
             ],
             [
              0.5555555555555556,
              "#d8576b"
             ],
             [
              0.6666666666666666,
              "#ed7953"
             ],
             [
              0.7777777777777778,
              "#fb9f3a"
             ],
             [
              0.8888888888888888,
              "#fdca26"
             ],
             [
              1,
              "#f0f921"
             ]
            ],
            "type": "heatmap"
           }
          ],
          "heatmapgl": [
           {
            "colorbar": {
             "outlinewidth": 0,
             "ticks": ""
            },
            "colorscale": [
             [
              0,
              "#0d0887"
             ],
             [
              0.1111111111111111,
              "#46039f"
             ],
             [
              0.2222222222222222,
              "#7201a8"
             ],
             [
              0.3333333333333333,
              "#9c179e"
             ],
             [
              0.4444444444444444,
              "#bd3786"
             ],
             [
              0.5555555555555556,
              "#d8576b"
             ],
             [
              0.6666666666666666,
              "#ed7953"
             ],
             [
              0.7777777777777778,
              "#fb9f3a"
             ],
             [
              0.8888888888888888,
              "#fdca26"
             ],
             [
              1,
              "#f0f921"
             ]
            ],
            "type": "heatmapgl"
           }
          ],
          "histogram": [
           {
            "marker": {
             "pattern": {
              "fillmode": "overlay",
              "size": 10,
              "solidity": 0.2
             }
            },
            "type": "histogram"
           }
          ],
          "histogram2d": [
           {
            "colorbar": {
             "outlinewidth": 0,
             "ticks": ""
            },
            "colorscale": [
             [
              0,
              "#0d0887"
             ],
             [
              0.1111111111111111,
              "#46039f"
             ],
             [
              0.2222222222222222,
              "#7201a8"
             ],
             [
              0.3333333333333333,
              "#9c179e"
             ],
             [
              0.4444444444444444,
              "#bd3786"
             ],
             [
              0.5555555555555556,
              "#d8576b"
             ],
             [
              0.6666666666666666,
              "#ed7953"
             ],
             [
              0.7777777777777778,
              "#fb9f3a"
             ],
             [
              0.8888888888888888,
              "#fdca26"
             ],
             [
              1,
              "#f0f921"
             ]
            ],
            "type": "histogram2d"
           }
          ],
          "histogram2dcontour": [
           {
            "colorbar": {
             "outlinewidth": 0,
             "ticks": ""
            },
            "colorscale": [
             [
              0,
              "#0d0887"
             ],
             [
              0.1111111111111111,
              "#46039f"
             ],
             [
              0.2222222222222222,
              "#7201a8"
             ],
             [
              0.3333333333333333,
              "#9c179e"
             ],
             [
              0.4444444444444444,
              "#bd3786"
             ],
             [
              0.5555555555555556,
              "#d8576b"
             ],
             [
              0.6666666666666666,
              "#ed7953"
             ],
             [
              0.7777777777777778,
              "#fb9f3a"
             ],
             [
              0.8888888888888888,
              "#fdca26"
             ],
             [
              1,
              "#f0f921"
             ]
            ],
            "type": "histogram2dcontour"
           }
          ],
          "mesh3d": [
           {
            "colorbar": {
             "outlinewidth": 0,
             "ticks": ""
            },
            "type": "mesh3d"
           }
          ],
          "parcoords": [
           {
            "line": {
             "colorbar": {
              "outlinewidth": 0,
              "ticks": ""
             }
            },
            "type": "parcoords"
           }
          ],
          "pie": [
           {
            "automargin": true,
            "type": "pie"
           }
          ],
          "scatter": [
           {
            "marker": {
             "colorbar": {
              "outlinewidth": 0,
              "ticks": ""
             }
            },
            "type": "scatter"
           }
          ],
          "scatter3d": [
           {
            "line": {
             "colorbar": {
              "outlinewidth": 0,
              "ticks": ""
             }
            },
            "marker": {
             "colorbar": {
              "outlinewidth": 0,
              "ticks": ""
             }
            },
            "type": "scatter3d"
           }
          ],
          "scattercarpet": [
           {
            "marker": {
             "colorbar": {
              "outlinewidth": 0,
              "ticks": ""
             }
            },
            "type": "scattercarpet"
           }
          ],
          "scattergeo": [
           {
            "marker": {
             "colorbar": {
              "outlinewidth": 0,
              "ticks": ""
             }
            },
            "type": "scattergeo"
           }
          ],
          "scattergl": [
           {
            "marker": {
             "colorbar": {
              "outlinewidth": 0,
              "ticks": ""
             }
            },
            "type": "scattergl"
           }
          ],
          "scattermapbox": [
           {
            "marker": {
             "colorbar": {
              "outlinewidth": 0,
              "ticks": ""
             }
            },
            "type": "scattermapbox"
           }
          ],
          "scatterpolar": [
           {
            "marker": {
             "colorbar": {
              "outlinewidth": 0,
              "ticks": ""
             }
            },
            "type": "scatterpolar"
           }
          ],
          "scatterpolargl": [
           {
            "marker": {
             "colorbar": {
              "outlinewidth": 0,
              "ticks": ""
             }
            },
            "type": "scatterpolargl"
           }
          ],
          "scatterternary": [
           {
            "marker": {
             "colorbar": {
              "outlinewidth": 0,
              "ticks": ""
             }
            },
            "type": "scatterternary"
           }
          ],
          "surface": [
           {
            "colorbar": {
             "outlinewidth": 0,
             "ticks": ""
            },
            "colorscale": [
             [
              0,
              "#0d0887"
             ],
             [
              0.1111111111111111,
              "#46039f"
             ],
             [
              0.2222222222222222,
              "#7201a8"
             ],
             [
              0.3333333333333333,
              "#9c179e"
             ],
             [
              0.4444444444444444,
              "#bd3786"
             ],
             [
              0.5555555555555556,
              "#d8576b"
             ],
             [
              0.6666666666666666,
              "#ed7953"
             ],
             [
              0.7777777777777778,
              "#fb9f3a"
             ],
             [
              0.8888888888888888,
              "#fdca26"
             ],
             [
              1,
              "#f0f921"
             ]
            ],
            "type": "surface"
           }
          ],
          "table": [
           {
            "cells": {
             "fill": {
              "color": "#EBF0F8"
             },
             "line": {
              "color": "white"
             }
            },
            "header": {
             "fill": {
              "color": "#C8D4E3"
             },
             "line": {
              "color": "white"
             }
            },
            "type": "table"
           }
          ]
         },
         "layout": {
          "annotationdefaults": {
           "arrowcolor": "#2a3f5f",
           "arrowhead": 0,
           "arrowwidth": 1
          },
          "autotypenumbers": "strict",
          "coloraxis": {
           "colorbar": {
            "outlinewidth": 0,
            "ticks": ""
           }
          },
          "colorscale": {
           "diverging": [
            [
             0,
             "#8e0152"
            ],
            [
             0.1,
             "#c51b7d"
            ],
            [
             0.2,
             "#de77ae"
            ],
            [
             0.3,
             "#f1b6da"
            ],
            [
             0.4,
             "#fde0ef"
            ],
            [
             0.5,
             "#f7f7f7"
            ],
            [
             0.6,
             "#e6f5d0"
            ],
            [
             0.7,
             "#b8e186"
            ],
            [
             0.8,
             "#7fbc41"
            ],
            [
             0.9,
             "#4d9221"
            ],
            [
             1,
             "#276419"
            ]
           ],
           "sequential": [
            [
             0,
             "#0d0887"
            ],
            [
             0.1111111111111111,
             "#46039f"
            ],
            [
             0.2222222222222222,
             "#7201a8"
            ],
            [
             0.3333333333333333,
             "#9c179e"
            ],
            [
             0.4444444444444444,
             "#bd3786"
            ],
            [
             0.5555555555555556,
             "#d8576b"
            ],
            [
             0.6666666666666666,
             "#ed7953"
            ],
            [
             0.7777777777777778,
             "#fb9f3a"
            ],
            [
             0.8888888888888888,
             "#fdca26"
            ],
            [
             1,
             "#f0f921"
            ]
           ],
           "sequentialminus": [
            [
             0,
             "#0d0887"
            ],
            [
             0.1111111111111111,
             "#46039f"
            ],
            [
             0.2222222222222222,
             "#7201a8"
            ],
            [
             0.3333333333333333,
             "#9c179e"
            ],
            [
             0.4444444444444444,
             "#bd3786"
            ],
            [
             0.5555555555555556,
             "#d8576b"
            ],
            [
             0.6666666666666666,
             "#ed7953"
            ],
            [
             0.7777777777777778,
             "#fb9f3a"
            ],
            [
             0.8888888888888888,
             "#fdca26"
            ],
            [
             1,
             "#f0f921"
            ]
           ]
          },
          "colorway": [
           "#636efa",
           "#EF553B",
           "#00cc96",
           "#ab63fa",
           "#FFA15A",
           "#19d3f3",
           "#FF6692",
           "#B6E880",
           "#FF97FF",
           "#FECB52"
          ],
          "font": {
           "color": "#2a3f5f"
          },
          "geo": {
           "bgcolor": "white",
           "lakecolor": "white",
           "landcolor": "#E5ECF6",
           "showlakes": true,
           "showland": true,
           "subunitcolor": "white"
          },
          "hoverlabel": {
           "align": "left"
          },
          "hovermode": "closest",
          "mapbox": {
           "style": "light"
          },
          "paper_bgcolor": "white",
          "plot_bgcolor": "#E5ECF6",
          "polar": {
           "angularaxis": {
            "gridcolor": "white",
            "linecolor": "white",
            "ticks": ""
           },
           "bgcolor": "#E5ECF6",
           "radialaxis": {
            "gridcolor": "white",
            "linecolor": "white",
            "ticks": ""
           }
          },
          "scene": {
           "xaxis": {
            "backgroundcolor": "#E5ECF6",
            "gridcolor": "white",
            "gridwidth": 2,
            "linecolor": "white",
            "showbackground": true,
            "ticks": "",
            "zerolinecolor": "white"
           },
           "yaxis": {
            "backgroundcolor": "#E5ECF6",
            "gridcolor": "white",
            "gridwidth": 2,
            "linecolor": "white",
            "showbackground": true,
            "ticks": "",
            "zerolinecolor": "white"
           },
           "zaxis": {
            "backgroundcolor": "#E5ECF6",
            "gridcolor": "white",
            "gridwidth": 2,
            "linecolor": "white",
            "showbackground": true,
            "ticks": "",
            "zerolinecolor": "white"
           }
          },
          "shapedefaults": {
           "line": {
            "color": "#2a3f5f"
           }
          },
          "ternary": {
           "aaxis": {
            "gridcolor": "white",
            "linecolor": "white",
            "ticks": ""
           },
           "baxis": {
            "gridcolor": "white",
            "linecolor": "white",
            "ticks": ""
           },
           "bgcolor": "#E5ECF6",
           "caxis": {
            "gridcolor": "white",
            "linecolor": "white",
            "ticks": ""
           }
          },
          "title": {
           "x": 0.05
          },
          "xaxis": {
           "automargin": true,
           "gridcolor": "white",
           "linecolor": "white",
           "ticks": "",
           "title": {
            "standoff": 15
           },
           "zerolinecolor": "white",
           "zerolinewidth": 2
          },
          "yaxis": {
           "automargin": true,
           "gridcolor": "white",
           "linecolor": "white",
           "ticks": "",
           "title": {
            "standoff": 15
           },
           "zerolinecolor": "white",
           "zerolinewidth": 2
          }
         }
        },
        "title": {
         "text": "F1"
        },
        "xaxis": {
         "anchor": "y",
         "domain": [
          0,
          1
         ],
         "title": {
          "text": "labels"
         }
        },
        "yaxis": {
         "anchor": "x",
         "domain": [
          0,
          1
         ],
         "title": {
          "text": "F1"
         }
        }
       }
      }
     },
     "metadata": {},
     "output_type": "display_data"
    }
   ],
   "source": [
    "topics = get_topic_threshold(df_topics, threshold=0.9)\n",
    "labels,f1scores,precscores,recallscores, f1scores_weighted, f1scores_micro, f1scores_macro = get_metrics(df_tagged, topics)\n",
    "def representation_specific_threshold(df, labels, metric, weighted=0.0, macro=0.0):\n",
    "    df_ = df.copy()\n",
    "    df_.reset_index(inplace=True)\n",
    "    fig = px.bar(df_, x='labels', y='F1',\n",
    "                  labels={\"index\": \"Labels\"},\n",
    "                  title=metric)\n",
    "    # fig.update_layout(uniformtext_minsize=28, uniformtext_mode='show')\n",
    "    fig.add_hline(y=weighted, line_dash=\"dash\", line_color=\"green\", annotation_text='Weighted={:.3f}'.format(weighted))\n",
    "    fig.add_hline(y=macro, line_dash=\"dash\", line_color=\"red\", annotation_text='Macro={:.3f}'.format(macro))\n",
    "    # update_layout method used to modify change and size\n",
    "    fig.update_layout(\n",
    "        font=dict(\n",
    "            #family=\"Courier New, monospace\",\n",
    "            size=24,  # Set the font size here\n",
    "        )\n",
    "    ) \n",
    "    fig.show()\n",
    "df = pd.DataFrame()\n",
    "df['labels'] = labels\n",
    "df['F1'] = f1scores.tolist()\n",
    "representation_specific_threshold(df, labels, 'F1', weighted=f1scores_weighted, macro=f1scores_macro)"
   ]
  }
 ],
 "metadata": {
  "kernelspec": {
   "display_name": "Python 3.9.13 64-bit (windows store)",
   "language": "python",
   "name": "python3"
  },
  "language_info": {
   "codemirror_mode": {
    "name": "ipython",
    "version": 3
   },
   "file_extension": ".py",
   "mimetype": "text/x-python",
   "name": "python",
   "nbconvert_exporter": "python",
   "pygments_lexer": "ipython3",
   "version": "3.9.13"
  },
  "orig_nbformat": 4,
  "vscode": {
   "interpreter": {
    "hash": "1c4cc1e3c1745df56aa271c6f4a84adb636c7a38852180e9c958396b3b96088a"
   }
  }
 },
 "nbformat": 4,
 "nbformat_minor": 2
}
