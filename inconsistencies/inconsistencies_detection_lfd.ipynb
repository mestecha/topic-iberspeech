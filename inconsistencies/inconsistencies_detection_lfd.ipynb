{
 "cells": [
  {
   "cell_type": "code",
   "execution_count": 43,
   "metadata": {},
   "outputs": [
    {
     "name": "stdout",
     "output_type": "stream",
     "text": [
      "Collecting krippendorff\n",
      "  Downloading krippendorff-0.5.1-py3-none-any.whl (17 kB)\n",
      "Requirement already satisfied: numpy in c:\\users\\lfdha\\appdata\\local\\packages\\pythonsoftwarefoundation.python.3.9_qbz5n2kfra8p0\\localcache\\local-packages\\python39\\site-packages (from krippendorff) (1.20.0)\n",
      "Installing collected packages: krippendorff\n",
      "Successfully installed krippendorff-0.5.1\n"
     ]
    }
   ],
   "source": [
    "!pip install krippendorff\n"
   ]
  },
  {
   "cell_type": "code",
   "execution_count": 5,
   "metadata": {},
   "outputs": [
    {
     "name": "stdout",
     "output_type": "stream",
     "text": [
      "Requirement already satisfied: bertopic in c:\\users\\lfdha\\appdata\\local\\packages\\pythonsoftwarefoundation.python.3.9_qbz5n2kfra8p0\\localcache\\local-packages\\python39\\site-packages (0.11.0)\n",
      "Requirement already satisfied: hdbscan>=0.8.28 in c:\\users\\lfdha\\appdata\\local\\packages\\pythonsoftwarefoundation.python.3.9_qbz5n2kfra8p0\\localcache\\local-packages\\python39\\site-packages (from bertopic) (0.8.28)\n",
      "Requirement already satisfied: tqdm>=4.41.1 in c:\\users\\lfdha\\appdata\\local\\packages\\pythonsoftwarefoundation.python.3.9_qbz5n2kfra8p0\\localcache\\local-packages\\python39\\site-packages (from bertopic) (4.62.3)\n",
      "Requirement already satisfied: numpy>=1.20.0 in c:\\users\\lfdha\\appdata\\local\\packages\\pythonsoftwarefoundation.python.3.9_qbz5n2kfra8p0\\localcache\\local-packages\\python39\\site-packages (from bertopic) (1.20.0)\n",
      "Requirement already satisfied: pandas>=1.1.5 in c:\\users\\lfdha\\appdata\\local\\packages\\pythonsoftwarefoundation.python.3.9_qbz5n2kfra8p0\\localcache\\local-packages\\python39\\site-packages (from bertopic) (1.3.4)\n",
      "Requirement already satisfied: plotly>=4.7.0 in c:\\users\\lfdha\\appdata\\local\\packages\\pythonsoftwarefoundation.python.3.9_qbz5n2kfra8p0\\localcache\\local-packages\\python39\\site-packages (from bertopic) (5.4.0)\n",
      "Requirement already satisfied: scikit-learn>=0.22.2.post1 in c:\\users\\lfdha\\appdata\\local\\packages\\pythonsoftwarefoundation.python.3.9_qbz5n2kfra8p0\\localcache\\local-packages\\python39\\site-packages (from bertopic) (1.0.1)\n",
      "Requirement already satisfied: sentence-transformers>=0.4.1 in c:\\users\\lfdha\\appdata\\local\\packages\\pythonsoftwarefoundation.python.3.9_qbz5n2kfra8p0\\localcache\\local-packages\\python39\\site-packages (from bertopic) (2.1.0)\n",
      "Requirement already satisfied: umap-learn>=0.5.0 in c:\\users\\lfdha\\appdata\\local\\packages\\pythonsoftwarefoundation.python.3.9_qbz5n2kfra8p0\\localcache\\local-packages\\python39\\site-packages (from bertopic) (0.5.2)\n",
      "Requirement already satisfied: pyyaml<6.0 in c:\\users\\lfdha\\appdata\\local\\packages\\pythonsoftwarefoundation.python.3.9_qbz5n2kfra8p0\\localcache\\local-packages\\python39\\site-packages (from bertopic) (5.4.1)\n",
      "Requirement already satisfied: joblib>=1.0 in c:\\users\\lfdha\\appdata\\local\\packages\\pythonsoftwarefoundation.python.3.9_qbz5n2kfra8p0\\localcache\\local-packages\\python39\\site-packages (from hdbscan>=0.8.28->bertopic) (1.1.0)\n",
      "Requirement already satisfied: scipy>=1.0 in c:\\users\\lfdha\\appdata\\local\\packages\\pythonsoftwarefoundation.python.3.9_qbz5n2kfra8p0\\localcache\\local-packages\\python39\\site-packages (from hdbscan>=0.8.28->bertopic) (1.7.3)\n",
      "Requirement already satisfied: cython>=0.27 in c:\\users\\lfdha\\appdata\\local\\packages\\pythonsoftwarefoundation.python.3.9_qbz5n2kfra8p0\\localcache\\local-packages\\python39\\site-packages (from hdbscan>=0.8.28->bertopic) (0.29.32)\n",
      "Requirement already satisfied: python-dateutil>=2.7.3 in c:\\users\\lfdha\\appdata\\local\\packages\\pythonsoftwarefoundation.python.3.9_qbz5n2kfra8p0\\localcache\\local-packages\\python39\\site-packages (from pandas>=1.1.5->bertopic) (2.8.2)\n",
      "Requirement already satisfied: pytz>=2017.3 in c:\\users\\lfdha\\appdata\\local\\packages\\pythonsoftwarefoundation.python.3.9_qbz5n2kfra8p0\\localcache\\local-packages\\python39\\site-packages (from pandas>=1.1.5->bertopic) (2021.3)\n",
      "Requirement already satisfied: six in c:\\users\\lfdha\\appdata\\local\\packages\\pythonsoftwarefoundation.python.3.9_qbz5n2kfra8p0\\localcache\\local-packages\\python39\\site-packages (from plotly>=4.7.0->bertopic) (1.16.0)\n",
      "Requirement already satisfied: tenacity>=6.2.0 in c:\\users\\lfdha\\appdata\\local\\packages\\pythonsoftwarefoundation.python.3.9_qbz5n2kfra8p0\\localcache\\local-packages\\python39\\site-packages (from plotly>=4.7.0->bertopic) (8.0.1)\n",
      "Requirement already satisfied: threadpoolctl>=2.0.0 in c:\\users\\lfdha\\appdata\\local\\packages\\pythonsoftwarefoundation.python.3.9_qbz5n2kfra8p0\\localcache\\local-packages\\python39\\site-packages (from scikit-learn>=0.22.2.post1->bertopic) (3.0.0)\n",
      "Requirement already satisfied: transformers<5.0.0,>=4.6.0 in c:\\users\\lfdha\\appdata\\local\\packages\\pythonsoftwarefoundation.python.3.9_qbz5n2kfra8p0\\localcache\\local-packages\\python39\\site-packages (from sentence-transformers>=0.4.1->bertopic) (4.12.5)\n",
      "Requirement already satisfied: tokenizers>=0.10.3 in c:\\users\\lfdha\\appdata\\local\\packages\\pythonsoftwarefoundation.python.3.9_qbz5n2kfra8p0\\localcache\\local-packages\\python39\\site-packages (from sentence-transformers>=0.4.1->bertopic) (0.10.3)\n",
      "Requirement already satisfied: torch>=1.6.0 in c:\\users\\lfdha\\appdata\\local\\packages\\pythonsoftwarefoundation.python.3.9_qbz5n2kfra8p0\\localcache\\local-packages\\python39\\site-packages (from sentence-transformers>=0.4.1->bertopic) (1.10.0)\n",
      "Requirement already satisfied: torchvision in c:\\users\\lfdha\\appdata\\local\\packages\\pythonsoftwarefoundation.python.3.9_qbz5n2kfra8p0\\localcache\\local-packages\\python39\\site-packages (from sentence-transformers>=0.4.1->bertopic) (0.11.1)\n",
      "Requirement already satisfied: nltk in c:\\users\\lfdha\\appdata\\local\\packages\\pythonsoftwarefoundation.python.3.9_qbz5n2kfra8p0\\localcache\\local-packages\\python39\\site-packages (from sentence-transformers>=0.4.1->bertopic) (3.6.5)\n",
      "Requirement already satisfied: sentencepiece in c:\\users\\lfdha\\appdata\\local\\packages\\pythonsoftwarefoundation.python.3.9_qbz5n2kfra8p0\\localcache\\local-packages\\python39\\site-packages (from sentence-transformers>=0.4.1->bertopic) (0.1.96)\n",
      "Requirement already satisfied: huggingface-hub in c:\\users\\lfdha\\appdata\\local\\packages\\pythonsoftwarefoundation.python.3.9_qbz5n2kfra8p0\\localcache\\local-packages\\python39\\site-packages (from sentence-transformers>=0.4.1->bertopic) (0.2.1)\n",
      "Requirement already satisfied: colorama in c:\\users\\lfdha\\appdata\\local\\packages\\pythonsoftwarefoundation.python.3.9_qbz5n2kfra8p0\\localcache\\local-packages\\python39\\site-packages (from tqdm>=4.41.1->bertopic) (0.4.4)\n",
      "Requirement already satisfied: numba>=0.49 in c:\\users\\lfdha\\appdata\\local\\packages\\pythonsoftwarefoundation.python.3.9_qbz5n2kfra8p0\\localcache\\local-packages\\python39\\site-packages (from umap-learn>=0.5.0->bertopic) (0.54.1)\n",
      "Requirement already satisfied: pynndescent>=0.5 in c:\\users\\lfdha\\appdata\\local\\packages\\pythonsoftwarefoundation.python.3.9_qbz5n2kfra8p0\\localcache\\local-packages\\python39\\site-packages (from umap-learn>=0.5.0->bertopic) (0.5.5)\n",
      "Requirement already satisfied: setuptools in c:\\program files\\windowsapps\\pythonsoftwarefoundation.python.3.9_3.9.3568.0_x64__qbz5n2kfra8p0\\lib\\site-packages (from numba>=0.49->umap-learn>=0.5.0->bertopic) (58.1.0)\n",
      "Requirement already satisfied: llvmlite<0.38,>=0.37.0rc1 in c:\\users\\lfdha\\appdata\\local\\packages\\pythonsoftwarefoundation.python.3.9_qbz5n2kfra8p0\\localcache\\local-packages\\python39\\site-packages (from numba>=0.49->umap-learn>=0.5.0->bertopic) (0.37.0)\n",
      "Requirement already satisfied: typing-extensions in c:\\users\\lfdha\\appdata\\local\\packages\\pythonsoftwarefoundation.python.3.9_qbz5n2kfra8p0\\localcache\\local-packages\\python39\\site-packages (from torch>=1.6.0->sentence-transformers>=0.4.1->bertopic) (4.0.1)\n",
      "Requirement already satisfied: requests in c:\\users\\lfdha\\appdata\\local\\packages\\pythonsoftwarefoundation.python.3.9_qbz5n2kfra8p0\\localcache\\local-packages\\python39\\site-packages (from transformers<5.0.0,>=4.6.0->sentence-transformers>=0.4.1->bertopic) (2.26.0)\n",
      "Requirement already satisfied: packaging>=20.0 in c:\\users\\lfdha\\appdata\\local\\packages\\pythonsoftwarefoundation.python.3.9_qbz5n2kfra8p0\\localcache\\local-packages\\python39\\site-packages (from transformers<5.0.0,>=4.6.0->sentence-transformers>=0.4.1->bertopic) (21.3)\n",
      "Requirement already satisfied: sacremoses in c:\\users\\lfdha\\appdata\\local\\packages\\pythonsoftwarefoundation.python.3.9_qbz5n2kfra8p0\\localcache\\local-packages\\python39\\site-packages (from transformers<5.0.0,>=4.6.0->sentence-transformers>=0.4.1->bertopic) (0.0.46)\n",
      "Requirement already satisfied: regex!=2019.12.17 in c:\\users\\lfdha\\appdata\\local\\packages\\pythonsoftwarefoundation.python.3.9_qbz5n2kfra8p0\\localcache\\local-packages\\python39\\site-packages (from transformers<5.0.0,>=4.6.0->sentence-transformers>=0.4.1->bertopic) (2021.11.10)\n",
      "Requirement already satisfied: filelock in c:\\users\\lfdha\\appdata\\local\\packages\\pythonsoftwarefoundation.python.3.9_qbz5n2kfra8p0\\localcache\\local-packages\\python39\\site-packages (from transformers<5.0.0,>=4.6.0->sentence-transformers>=0.4.1->bertopic) (3.4.0)\n",
      "Requirement already satisfied: click in c:\\users\\lfdha\\appdata\\local\\packages\\pythonsoftwarefoundation.python.3.9_qbz5n2kfra8p0\\localcache\\local-packages\\python39\\site-packages (from nltk->sentence-transformers>=0.4.1->bertopic) (7.1.2)\n",
      "Requirement already satisfied: pillow!=8.3.0,>=5.3.0 in c:\\users\\lfdha\\appdata\\local\\packages\\pythonsoftwarefoundation.python.3.9_qbz5n2kfra8p0\\localcache\\local-packages\\python39\\site-packages (from torchvision->sentence-transformers>=0.4.1->bertopic) (8.4.0)\n",
      "Requirement already satisfied: pyparsing!=3.0.5,>=2.0.2 in c:\\users\\lfdha\\appdata\\local\\packages\\pythonsoftwarefoundation.python.3.9_qbz5n2kfra8p0\\localcache\\local-packages\\python39\\site-packages (from packaging>=20.0->transformers<5.0.0,>=4.6.0->sentence-transformers>=0.4.1->bertopic) (3.0.6)\n",
      "Requirement already satisfied: urllib3<1.27,>=1.21.1 in c:\\users\\lfdha\\appdata\\local\\packages\\pythonsoftwarefoundation.python.3.9_qbz5n2kfra8p0\\localcache\\local-packages\\python39\\site-packages (from requests->transformers<5.0.0,>=4.6.0->sentence-transformers>=0.4.1->bertopic) (1.26.7)\n",
      "Requirement already satisfied: charset-normalizer~=2.0.0 in c:\\users\\lfdha\\appdata\\local\\packages\\pythonsoftwarefoundation.python.3.9_qbz5n2kfra8p0\\localcache\\local-packages\\python39\\site-packages (from requests->transformers<5.0.0,>=4.6.0->sentence-transformers>=0.4.1->bertopic) (2.0.9)\n",
      "Requirement already satisfied: certifi>=2017.4.17 in c:\\users\\lfdha\\appdata\\local\\packages\\pythonsoftwarefoundation.python.3.9_qbz5n2kfra8p0\\localcache\\local-packages\\python39\\site-packages (from requests->transformers<5.0.0,>=4.6.0->sentence-transformers>=0.4.1->bertopic) (2021.10.8)\n",
      "Requirement already satisfied: idna<4,>=2.5 in c:\\users\\lfdha\\appdata\\local\\packages\\pythonsoftwarefoundation.python.3.9_qbz5n2kfra8p0\\localcache\\local-packages\\python39\\site-packages (from requests->transformers<5.0.0,>=4.6.0->sentence-transformers>=0.4.1->bertopic) (3.3)\n",
      "Requirement already satisfied: hdbscan in c:\\users\\lfdha\\appdata\\local\\packages\\pythonsoftwarefoundation.python.3.9_qbz5n2kfra8p0\\localcache\\local-packages\\python39\\site-packages (0.8.28)\n",
      "Requirement already satisfied: cython>=0.27 in c:\\users\\lfdha\\appdata\\local\\packages\\pythonsoftwarefoundation.python.3.9_qbz5n2kfra8p0\\localcache\\local-packages\\python39\\site-packages (from hdbscan) (0.29.32)\n",
      "Requirement already satisfied: scikit-learn>=0.20 in c:\\users\\lfdha\\appdata\\local\\packages\\pythonsoftwarefoundation.python.3.9_qbz5n2kfra8p0\\localcache\\local-packages\\python39\\site-packages (from hdbscan) (1.0.1)\n",
      "Requirement already satisfied: numpy>=1.20 in c:\\users\\lfdha\\appdata\\local\\packages\\pythonsoftwarefoundation.python.3.9_qbz5n2kfra8p0\\localcache\\local-packages\\python39\\site-packages (from hdbscan) (1.20.0)\n",
      "Requirement already satisfied: scipy>=1.0 in c:\\users\\lfdha\\appdata\\local\\packages\\pythonsoftwarefoundation.python.3.9_qbz5n2kfra8p0\\localcache\\local-packages\\python39\\site-packages (from hdbscan) (1.7.3)\n",
      "Requirement already satisfied: joblib>=1.0 in c:\\users\\lfdha\\appdata\\local\\packages\\pythonsoftwarefoundation.python.3.9_qbz5n2kfra8p0\\localcache\\local-packages\\python39\\site-packages (from hdbscan) (1.1.0)\n",
      "Requirement already satisfied: threadpoolctl>=2.0.0 in c:\\users\\lfdha\\appdata\\local\\packages\\pythonsoftwarefoundation.python.3.9_qbz5n2kfra8p0\\localcache\\local-packages\\python39\\site-packages (from scikit-learn>=0.20->hdbscan) (3.0.0)\n"
     ]
    }
   ],
   "source": [
    "!pip install bertopic\n",
    "!pip install hdbscan"
   ]
  },
  {
   "cell_type": "code",
   "execution_count": 1,
   "metadata": {},
   "outputs": [
    {
     "name": "stderr",
     "output_type": "stream",
     "text": [
      "2022-08-17 17:02:16,382 INFO Load pretrained SentenceTransformer: all-MiniLM-L6-v2\n",
      "2022-08-17 17:02:23,745 INFO Use pytorch device: cpu\n"
     ]
    }
   ],
   "source": [
    "import logging\n",
    "import sys\n",
    "import random\n",
    "import numpy as np\n",
    "import umap\n",
    "import hdbscan\n",
    "import pandas as pd\n",
    "from sklearn.metrics.pairwise import cosine_similarity\n",
    "from sklearn.metrics import silhouette_score, silhouette_samples\n",
    "from sklearn.preprocessing import StandardScaler\n",
    "from sklearn.cluster import KMeans\n",
    "from sentence_transformers import SentenceTransformer\n",
    "from bertopic import BERTopic\n",
    "import plotly.express as px\n",
    "import transformers\n",
    "\n",
    "logging.basicConfig(format=\"%(asctime)-15s %(levelname)s %(message)s\", level=logging.INFO)\n",
    "\n",
    "DATA_PATH = r'C:\\Users\\lfdha\\Dropbox\\Papers\\Iberspeech_2022\\Inconsistent_Answers_ALL.xlsx'\n",
    "embedding_model = SentenceTransformer('all-MiniLM-L6-v2')\n",
    "# embedding_model = SentenceTransformer('all-mpnet-base-v2')\n",
    "zsl_model = transformers.pipeline(\"zero-shot-classification\", model = \"cross-encoder/nli-deberta-base\")"
   ]
  },
  {
   "cell_type": "code",
   "execution_count": 33,
   "metadata": {},
   "outputs": [],
   "source": [
    "def get_most_frequent_question_embedding(questions_df, embedding_model):\n",
    "    dict_result = {\n",
    "          'main_question':questions_df.Question.mode()[0],\n",
    "          'main_embedding':embedding_model.encode(questions_df['Question'].mode()[0])\n",
    "    }\n",
    "    print(f'Most frequent question: {questions_df.Question.mode()[0]}')\n",
    "    return dict_result\n",
    "\n",
    "def computing_embedding_list(questions):\n",
    "    list_embeddings = []\n",
    "    for sent in questions:\n",
    "        list_embeddings.append(embedding_model.encode(sent))\n",
    "    return list_embeddings\n",
    "\n",
    "def filter_similar_questions(questions, embedding_model, main_question, main_embedding, threshold=0.9):\n",
    "    dict_results = {\n",
    "        'list_chatbot':[],\n",
    "        'list_embeddings':[],\n",
    "        'list_questions':[],\n",
    "        'list_answers':[],\n",
    "        'similarity':[]\n",
    "    }\n",
    "    aux = questions[questions['Question'] != main_question]\n",
    "    aux.reset_index(inplace=True, drop=True)\n",
    "    for i in range(aux.shape[0]):\n",
    "        aux_emb = embedding_model.encode(aux['Question'][i])\n",
    "        if cosine_similarity(aux_emb.reshape(1,-1), main_embedding.reshape(1,-1)) > threshold:\n",
    "            dict_results['list_chatbot'].append(aux['selected'][i])\n",
    "            dict_results['list_embeddings'].append(aux_emb)\n",
    "            dict_results['list_questions'].append(aux['Question'][i])\n",
    "            dict_results['list_answers'].append(aux['Answer'][i])\n",
    "            dict_results['similarity'].append(cosine_similarity(aux_emb.reshape(1,-1), main_embedding.reshape(1,-1)))\n",
    "            # print(f'{aux.Question[i]}. Similarity: {cosine_similarity(aux_emb.reshape(1,-1), main_embedding.reshape(1,-1))}')\n",
    "    return dict_results\n",
    "\n",
    "def extracting_answers(questions_df, filter_dict_result, main_question):\n",
    "    list_answers = []\n",
    "    aux = questions_df[questions_df['Question'] == questions_df['Question'].mode()[0]]['Answer']\n",
    "    list_answers.extend(aux)\n",
    "    list_answers.extend(filter_dict_result['list_answers'])\n",
    "    return list_answers\n",
    "\n",
    "def extracting_answers_and_chatbot(questions_df, filter_dict_result, main_question):\n",
    "    dict_answers_chatbot = {\n",
    "        'list_answers':[],\n",
    "        'list_chatbot':[]\n",
    "    }\n",
    "    aux = questions_df[questions_df['Question'] == questions_df['Question'].mode()[0]]['Answer']\n",
    "    dict_answers_chatbot['list_answers'].extend(aux)\n",
    "    dict_answers_chatbot['list_answers'].extend(filter_dict_result['list_answers'])\n",
    "    aux = questions_df[questions_df['Question'] == questions_df['Question'].mode()[0]]['selected']\n",
    "    dict_answers_chatbot['list_chatbot'].extend(aux)\n",
    "    dict_answers_chatbot['list_chatbot'].extend(filter_dict_result['list_chatbot'])\n",
    "    return dict_answers_chatbot\n",
    "\n",
    "def computing_embedding_list(list_):\n",
    "    list_embeddings = []\n",
    "    for sent in list_:\n",
    "        list_embeddings.append(embedding_model.encode(sent))\n",
    "    return list_embeddings\n",
    "\n",
    "def mean_embedding(list_embeddings):\n",
    "    return np.mean(np.array(list_embeddings),axis=0)\n",
    "\n",
    "def reduce_dimensionality(list_embeddings, mean_embedding_vector):\n",
    "    list_emb = list_embeddings\n",
    "    list_emb.append(mean_embedding_vector)\n",
    "    # reducer = umap.UMAP(random_state=42,n_components=2)\n",
    "    reducer = umap.UMAP(random_state=42,n_components=50)\n",
    "    try: \n",
    "        list_emb_reduce = reducer.fit_transform(list_emb)\n",
    "    except:\n",
    "        list_emb_reduce = list_emb\n",
    "    return list_emb_reduce\n",
    "\n",
    "def reduce_dimensionality_by_chatbot(dict_list, list_embedding_answers, mean_embedding_vector):\n",
    "    dict_list['list_embeddings'] = list_embedding_answers\n",
    "    df_ = pd.DataFrame(dict_list)\n",
    "    list_df = []\n",
    "    for chatbot in df_['list_chatbot'].unique():\n",
    "        reducer = umap.UMAP(random_state=42,n_components=2)\n",
    "        aux_df = df_[df_['list_chatbot']==chatbot]\n",
    "        aux_df.reset_index(inplace=True, drop=True)\n",
    "        list_emb = list(aux_df['list_embeddings'].values)\n",
    "        list_chatbot = [chatbot]*len(list_emb)\n",
    "        list_chatbot.append('MEAN_VECTOR')\n",
    "        list_emb.append(mean_embedding_vector)\n",
    "        list_emb_reduce = reducer.fit_transform(list_emb)\n",
    "        list_answers_ = list(aux_df['list_answers'].values)\n",
    "        list_answers_.append('MEAN VECTOR')\n",
    "        chatbot_df = pd.DataFrame(list(zip(list_emb_reduce[:,0], list_emb_reduce[:,1], \n",
    "                                           list_chatbot,list_answers_)),\n",
    "                                  columns=['comp1','comp2','chatbot', 'list_answers'])\n",
    "        list_df.append(chatbot_df)\n",
    "    return list_df\n",
    "\n",
    "def scale_data(list_embeddings):\n",
    "    scaler = StandardScaler()\n",
    "    return scaler.fit_transform(list_embeddings)\n",
    "\n",
    "def cluster_metrics(embeddings_vectors):\n",
    "    cluster = hdbscan.HDBSCAN(min_cluster_size=int(len(embeddings_vectors)/2),\n",
    "                              metric='euclidean', # Cosine distance\n",
    "                              allow_single_cluster=True,                    \n",
    "                              cluster_selection_method='eom').fit(embeddings_vectors)\n",
    "    # cluster = hdbscan.HDBSCAN(min_cluster_size=2,\n",
    "    #                           metric='euclidean', # Cosine distance\n",
    "    #                           allow_single_cluster=True,                    \n",
    "    #                           cluster_selection_method='eom').fit(embeddings_vectors)\n",
    "    sil = silhouette_score(embeddings_vectors, cluster.labels_)\n",
    "    print(f'Number of clusters: {max(cluster.labels_+1)}')\n",
    "    dict_results = {\n",
    "        'probabilities':cluster.probabilities_,\n",
    "        'persistance':cluster.cluster_persistence_,\n",
    "        'silhouette_score': sil\n",
    "    }\n",
    "    return dict_results\n",
    "\n",
    "def cluster_representation(list_answers, list_emb_reduce):\n",
    "    df_representation = pd.DataFrame()\n",
    "\n",
    "    is_mean_vector = len(list_answers)*[0]\n",
    "    is_mean_vector.append(1)\n",
    "\n",
    "    aux = list_answers\n",
    "    aux.append('MEAN EMBEDDING')\n",
    "\n",
    "    df_representation['comp1'] = list_emb_reduce[:,0]\n",
    "    df_representation['comp2'] = list_emb_reduce[:,1]\n",
    "    df_representation['answers'] = aux\n",
    "    df_representation['is_mean_vector'] = is_mean_vector\n",
    "    \n",
    "    fig = px.scatter(df_representation, x=\"comp1\", y=\"comp2\",\n",
    "                 color=\"is_mean_vector\",\n",
    "                 hover_data=[\"answers\"])\n",
    "    \n",
    "    fig.update_traces(marker=dict(size=12,\n",
    "                                  line=dict(width=2,\n",
    "                                            color='DarkSlateGrey')),\n",
    "                      selector=dict(mode='markers'))\n",
    "    fig.update_layout(\n",
    "            title=\"What's your favorite movie?\",\n",
    "            xaxis_title=\"X Dimension\",\n",
    "            yaxis_title=\"Y Dimension\",\n",
    "            font=dict(\n",
    "                size=18,\n",
    "            )\n",
    "        )\n",
    "    fig.show()\n",
    "    return 0\n",
    "\n",
    "def get_silhouette_score(list_emb_reduce_scale):\n",
    "    sil = []\n",
    "    sil_per_cluster = []\n",
    "    kmax = 10\n",
    "    if len(list_emb_reduce_scale) < kmax+1:\n",
    "        kmax=len(list_emb_reduce_scale)-1\n",
    "    representation = None\n",
    "    if kmax >1:\n",
    "        # representation = True\n",
    "        for k in range(2,kmax+1):\n",
    "            kmeans = KMeans(n_clusters=k).fit(list_emb_reduce_scale)\n",
    "            labels = kmeans.labels_\n",
    "            sil.append(silhouette_score(list_emb_reduce_scale, labels, metric='cosine'))\n",
    "            sil_per_cluster.append(silhouette_samples(list_emb_reduce_scale, labels))\n",
    "    else:\n",
    "        sil = list(np.arange(0,kmax))\n",
    "    \n",
    "    if representation == True:\n",
    "        fig = px.line(x=np.arange(2,kmax+1), y=sil,  markers=True)\n",
    "\n",
    "        fig.update(layout_yaxis_range = [0,1])\n",
    "        fig.update_traces(marker=dict(size=12,\n",
    "                              line=dict(width=2,\n",
    "                                        color='DarkSlateGrey')),\n",
    "                  selector=dict(mode='markers'))\n",
    "        fig.update_layout(\n",
    "            title=\"What's your favorite movie?\",\n",
    "            xaxis_title=\"Number of groups\",\n",
    "            yaxis_title=\"Silhouette score\",\n",
    "            font=dict(\n",
    "                size=18,\n",
    "            )\n",
    "        )\n",
    "        fig.show()\n",
    "    return sil, sil_per_cluster\n",
    "\n",
    "def get_n_clusters(list_silhouette):\n",
    "    print(f'There are {list_silhouette.index(max(list_silhouette))+2} possible answers')\n",
    "    return list_silhouette.index(max(list_silhouette))+2\n",
    "\n",
    "def compute_median(list_embedding_scaled, indexes):\n",
    "    vectors = []\n",
    "    for i in indexes:\n",
    "        vectors.append(list_embedding_scaled[i])\n",
    "    return vectors, np.median(vectors, axis=0)\n",
    "\n",
    "def compute_mean(list_embedding_scaled, indexes):\n",
    "    vectors = []\n",
    "    for i in indexes:\n",
    "        vectors.append(list_embedding_scaled[i])\n",
    "    return vectors, np.mean(vectors, axis=0)\n",
    "\n",
    "def get_main_index_vector(vectors, median_vector):\n",
    "    vectors = np.asarray(vectors)\n",
    "    dist_2 = np.sum((vectors - median_vector)**2, axis=1)\n",
    "    return np.argmin(dist_2)\n",
    "\n",
    "def get_main_answer(n_clusters, list_emb_reduce,\n",
    "                    list_answers, metric='median'):\n",
    "    if metric != 'median' and metric != 'mean':\n",
    "        sys.exit('Metric must be median or mean')\n",
    "    if metric=='median':\n",
    "        function_to_apply = compute_median\n",
    "    else:\n",
    "        function_to_apply = compute_mean\n",
    "\n",
    "    kmeans = KMeans(n_clusters=int(n_clusters))\n",
    "    kmeans.fit(list_emb_reduce)\n",
    "    labels = kmeans.labels_\n",
    "    list_emb_reduce_np = list_emb_reduce[:-1]\n",
    "    main_vectors = []\n",
    "    main_answers=[]\n",
    "    for label in np.unique(labels):\n",
    "        indexes = [i for i, value in enumerate(labels[:-1]) if value == label]\n",
    "        vectors, median = function_to_apply(list_emb_reduce_np, indexes)\n",
    "        answers = [list_answers[i] for i in indexes]\n",
    "        main_vectors.append(vectors[get_main_index_vector(vectors, median)])\n",
    "        main_answers.append(answers[get_main_index_vector(vectors, median)])\n",
    "    return main_vectors, main_answers\n",
    "\n",
    "def get_chatbot_likes(df_user_questions, topic_target, embedding_model,\n",
    "                      threshold=0.95, metric='median', min_answers=1, \n",
    "                      representation=True):\n",
    "    questions_topic = df_user_questions[df_user_questions['bertopic'] == topic_target]\n",
    "    questions_topic.reset_index(inplace=True, drop=True)\n",
    "    \n",
    "    most_frequent_dict = get_most_frequent_question_embedding(questions_topic, embedding_model)\n",
    "    filter_similar_dict = filter_similar_questions(questions_topic,embedding_model, \n",
    "                                               most_frequent_dict['main_question'],\n",
    "                                               most_frequent_dict['main_embedding'], \n",
    "                                               threshold)\n",
    "    list_answers = extracting_answers(questions_topic, filter_similar_dict, \n",
    "                                      most_frequent_dict['main_question'])\n",
    "    \n",
    "    if len(list_answers) <= 1:\n",
    "        print(f'TOPIC {topic_target}: THERE IS NOT QUESTIONS')\n",
    "        return list_answers\n",
    "\n",
    "    if len(list_answers) <= min_answers:\n",
    "        aux_answer = max(set(list_answers), key = list_answers.count)\n",
    "        if list_answers.count(aux_answer) == 1:\n",
    "            return random.choice(list_answers)\n",
    "        else: \n",
    "            return aux_answer\n",
    "\n",
    "    dict_answers_and_chatbots = extracting_answers_and_chatbot(questions_topic, \n",
    "                                                           filter_similar_dict, \n",
    "                                                           most_frequent_dict['main_question'])\n",
    "    list_embedding_answers = computing_embedding_list(dict_answers_and_chatbots['list_answers'])\n",
    "    dict_answers_and_chatbots['list_embeddings'] = list_embedding_answers\n",
    "    mean_embedding_answer = mean_embedding(list_embedding_answers)\n",
    "    list_emb_reduce = reduce_dimensionality(list_embedding_answers, mean_embedding_answer)\n",
    "    list_silhouette_score = get_silhouette_score(list_emb_reduce)\n",
    "    n_clusters = get_n_clusters(list_silhouette_score)\n",
    "    scaler = StandardScaler()\n",
    "    list_emb_reduce_scale = scaler.fit_transform(list_emb_reduce)\n",
    "    main_chatbot_answer_vectors, main_answers = get_main_answer(n_clusters, list_emb_reduce_scale, \n",
    "                                                            dict_answers_and_chatbots['list_answers'], \n",
    "                                                            metric=metric)\n",
    "    if representation == True:\n",
    "        cluster_representation(list_answers, list_emb_reduce_scale)\n",
    "    return main_answers\n",
    "\n",
    "\n",
    "def get_same_topic_questions(zsl_model, df_user_questions, topic):\n",
    "    candidates = []\n",
    "    candidates.append(topic)\n",
    "    candidates.append('other')\n",
    "    zs_topic = []\n",
    "    zs_score = []\n",
    "    for question in df_user_questions['Question']:\n",
    "        model_output = zsl_model(question, candidates, multi_label=True)\n",
    "        if model_output['labels'][0] == topic:\n",
    "            zs_topic.append(model_output['labels'][0])\n",
    "            zs_score.append(model_output['scores'][0])\n",
    "        else:\n",
    "            zs_topic.append(model_output['labels'][1])\n",
    "            zs_score.append(model_output['scores'][1])\n",
    "    df_user_questions['zs_topic'] = zs_topic\n",
    "    df_user_questions['zs_score'] = zs_score\n",
    "    return df_user_questions\n",
    "\n",
    "def filter_zs_topic(df_user_questions, zs_threshold):\n",
    "    resulting_df = df_user_questions[df_user_questions['zs_score']>zs_threshold]\n",
    "    resulting_df.reset_index(inplace=True, drop=True)\n",
    "    return resulting_df\n",
    "\n",
    "def get_chatbot_topic_likes(df_user, topic_like:str, topic_model,\n",
    "                            embedding_model, question_type='favorite',\n",
    "                            threshold=0.95, metric = 'median', \n",
    "                            min_answers=1, representation=False,\n",
    "                            zs_threshold=0.7):\n",
    "    similar_topic, similarity = topic_model.find_topics(topic_like, top_n=10)\n",
    "    if question_type == 'like':\n",
    "        topic_like_question = 'do you like '+topic_like+'?'\n",
    "    elif question_type=='favorite':\n",
    "        topic_like_question = \"what's your favorite \"+topic_like+'?'\n",
    "    elif question_type == 'no-fill':\n",
    "        topic_like_question = topic_like\n",
    "    else:\n",
    "        sys.exit('Question type must be like or favorite')\n",
    "    question_embedding = embedding_model.encode(topic_like_question)\n",
    "    for topic in similar_topic:\n",
    "        for representative_doc in topic_model.get_representative_docs(topic):\n",
    "            aux = embedding_model.encode(representative_doc)\n",
    "            cos_sim = cosine_similarity(aux.reshape(1,-1), \n",
    "                                        question_embedding.reshape(1,-1))\n",
    "            if cos_sim >= 0.65:\n",
    "                print(f'Most representative doc: {topic_model.get_representative_docs(topic)}')\n",
    "                print(f'Cosine similarity: {cos_sim}')\n",
    "                print(f\"Performing topic filtering by zero-shot\")\n",
    "\n",
    "                df_user = get_same_topic_questions(zsl_model, df_user, topic)\n",
    "                df_user = filter_zs_topic(df_user, zs_threshold)\n",
    "\n",
    "                if df_user.shape[0] > 0:\n",
    "                    main_answers = get_chatbot_likes(df_user, topic,\n",
    "                                                 embedding_model,\n",
    "                                                 threshold=threshold,\n",
    "                                                 metric=metric,\n",
    "                                                 min_answers=min_answers,\n",
    "                                                 representation=representation)\n",
    "                    for ans in main_answers:\n",
    "                        print(f'- {ans}')\n",
    "                    break\n",
    "    return"
   ]
  },
  {
   "cell_type": "code",
   "execution_count": 3,
   "metadata": {},
   "outputs": [
    {
     "name": "stderr",
     "output_type": "stream",
     "text": [
      "2022-08-17 17:10:24,188 INFO Loading conversations\n",
      "2022-08-17 17:10:25,833 INFO Loading BERTopic model\n"
     ]
    }
   ],
   "source": [
    "logging.info('Loading conversations')\n",
    "data = pd.read_excel(DATA_PATH, sheet_name='Seeker (Meta)')\n",
    "data = data.dropna(subset=['Id'])\n",
    "data_user_questions = data['Question']\n",
    "data_user_questions.reset_index(inplace=True, drop=True)\n",
    "logging.info('Loading BERTopic model')"
   ]
  },
  {
   "cell_type": "code",
   "execution_count": 57,
   "metadata": {},
   "outputs": [
    {
     "name": "stderr",
     "output_type": "stream",
     "text": [
      "2022-08-17 14:29:39,525 INFO Load pretrained SentenceTransformer: all-MiniLM-L6-v2\n",
      "2022-08-17 14:29:47,316 INFO Use pytorch device: cpu\n"
     ]
    }
   ],
   "source": [
    "topic_model = BERTopic(min_topic_size=3, diversity=0.5, n_gram_range=(1,1))\n",
    "#sentence_model = SentenceTransformer(\"all-MiniLM-L6-v2\")\n",
    "#embeddings = sentence_model.encode(data_user_questions, show_progress_bar=True)\n",
    "#topics, probs = topic_model.fit_transform(data_user_questions, embeddings)\n",
    "topics, probs = topic_model.fit_transform(data_user_questions)"
   ]
  },
  {
   "cell_type": "code",
   "execution_count": 58,
   "metadata": {},
   "outputs": [],
   "source": [
    "similar_topic, similarity = topic_model.find_topics('age', top_n=10)"
   ]
  },
  {
   "cell_type": "code",
   "execution_count": 64,
   "metadata": {},
   "outputs": [
    {
     "name": "stderr",
     "output_type": "stream",
     "text": [
      "2022-08-18 01:32:38,373 INFO Load pretrained SentenceTransformer: all-mpnet-base-v2\n",
      "2022-08-18 01:32:46,053 INFO Use pytorch device: cpu\n"
     ]
    },
    {
     "ename": "KeyError",
     "evalue": "'Answer'",
     "output_type": "error",
     "traceback": [
      "\u001b[1;31m---------------------------------------------------------------------------\u001b[0m",
      "\u001b[1;31mKeyError\u001b[0m                                  Traceback (most recent call last)",
      "\u001b[1;32m~\\AppData\\Local\\Packages\\PythonSoftwareFoundation.Python.3.9_qbz5n2kfra8p0\\LocalCache\\local-packages\\Python39\\site-packages\\pandas\\core\\indexes\\base.py\u001b[0m in \u001b[0;36mget_loc\u001b[1;34m(self, key, method, tolerance)\u001b[0m\n\u001b[0;32m   3360\u001b[0m             \u001b[1;32mtry\u001b[0m\u001b[1;33m:\u001b[0m\u001b[1;33m\u001b[0m\u001b[1;33m\u001b[0m\u001b[0m\n\u001b[1;32m-> 3361\u001b[1;33m                 \u001b[1;32mreturn\u001b[0m \u001b[0mself\u001b[0m\u001b[1;33m.\u001b[0m\u001b[0m_engine\u001b[0m\u001b[1;33m.\u001b[0m\u001b[0mget_loc\u001b[0m\u001b[1;33m(\u001b[0m\u001b[0mcasted_key\u001b[0m\u001b[1;33m)\u001b[0m\u001b[1;33m\u001b[0m\u001b[1;33m\u001b[0m\u001b[0m\n\u001b[0m\u001b[0;32m   3362\u001b[0m             \u001b[1;32mexcept\u001b[0m \u001b[0mKeyError\u001b[0m \u001b[1;32mas\u001b[0m \u001b[0merr\u001b[0m\u001b[1;33m:\u001b[0m\u001b[1;33m\u001b[0m\u001b[1;33m\u001b[0m\u001b[0m\n",
      "\u001b[1;32m~\\AppData\\Local\\Packages\\PythonSoftwareFoundation.Python.3.9_qbz5n2kfra8p0\\LocalCache\\local-packages\\Python39\\site-packages\\pandas\\_libs\\index.pyx\u001b[0m in \u001b[0;36mpandas._libs.index.IndexEngine.get_loc\u001b[1;34m()\u001b[0m\n",
      "\u001b[1;32m~\\AppData\\Local\\Packages\\PythonSoftwareFoundation.Python.3.9_qbz5n2kfra8p0\\LocalCache\\local-packages\\Python39\\site-packages\\pandas\\_libs\\index.pyx\u001b[0m in \u001b[0;36mpandas._libs.index.IndexEngine.get_loc\u001b[1;34m()\u001b[0m\n",
      "\u001b[1;32mpandas\\_libs\\hashtable_class_helper.pxi\u001b[0m in \u001b[0;36mpandas._libs.hashtable.PyObjectHashTable.get_item\u001b[1;34m()\u001b[0m\n",
      "\u001b[1;32mpandas\\_libs\\hashtable_class_helper.pxi\u001b[0m in \u001b[0;36mpandas._libs.hashtable.PyObjectHashTable.get_item\u001b[1;34m()\u001b[0m\n",
      "\u001b[1;31mKeyError\u001b[0m: 'Answer'",
      "\nThe above exception was the direct cause of the following exception:\n",
      "\u001b[1;31mKeyError\u001b[0m                                  Traceback (most recent call last)",
      "\u001b[1;32m~\\AppData\\Local\\Temp/ipykernel_10416/4288372632.py\u001b[0m in \u001b[0;36m<module>\u001b[1;34m\u001b[0m\n\u001b[0;32m     52\u001b[0m \u001b[0membedding_model\u001b[0m \u001b[1;33m=\u001b[0m \u001b[0mSentenceTransformer\u001b[0m\u001b[1;33m(\u001b[0m\u001b[1;34m'all-mpnet-base-v2'\u001b[0m\u001b[1;33m)\u001b[0m\u001b[1;33m\u001b[0m\u001b[1;33m\u001b[0m\u001b[0m\n\u001b[0;32m     53\u001b[0m \u001b[1;32mfor\u001b[0m \u001b[0mi\u001b[0m \u001b[1;32min\u001b[0m \u001b[0mrange\u001b[0m\u001b[1;33m(\u001b[0m\u001b[1;36m1\u001b[0m\u001b[1;33m,\u001b[0m \u001b[1;36m16\u001b[0m\u001b[1;33m)\u001b[0m\u001b[1;33m:\u001b[0m\u001b[1;33m\u001b[0m\u001b[1;33m\u001b[0m\u001b[0m\n\u001b[1;32m---> 54\u001b[1;33m     \u001b[0m_\u001b[0m\u001b[1;33m,\u001b[0m \u001b[0mn\u001b[0m \u001b[1;33m=\u001b[0m \u001b[0mget_chatbot_likes_lfd\u001b[0m\u001b[1;33m(\u001b[0m\u001b[0mdata\u001b[0m\u001b[1;33m.\u001b[0m\u001b[0mloc\u001b[0m\u001b[1;33m[\u001b[0m\u001b[0mdata\u001b[0m\u001b[1;33m[\u001b[0m\u001b[1;34m'Group_Id'\u001b[0m\u001b[1;33m]\u001b[0m \u001b[1;33m==\u001b[0m \u001b[0mi\u001b[0m\u001b[1;33m]\u001b[0m\u001b[1;33m,\u001b[0m \u001b[0membedding_model\u001b[0m\u001b[1;33m=\u001b[0m\u001b[0membedding_model\u001b[0m\u001b[1;33m)\u001b[0m\u001b[1;33m\u001b[0m\u001b[1;33m\u001b[0m\u001b[0m\n\u001b[0m\u001b[0;32m     55\u001b[0m     \u001b[0mprint\u001b[0m\u001b[1;33m(\u001b[0m\u001b[0mi\u001b[0m\u001b[1;33m,\u001b[0m \u001b[0mn\u001b[0m\u001b[1;33m)\u001b[0m\u001b[1;33m\u001b[0m\u001b[1;33m\u001b[0m\u001b[0m\n\u001b[0;32m     56\u001b[0m \u001b[1;33m\u001b[0m\u001b[0m\n",
      "\u001b[1;32m~\\AppData\\Local\\Temp/ipykernel_10416/4288372632.py\u001b[0m in \u001b[0;36mget_chatbot_likes_lfd\u001b[1;34m(questions_topic, embedding_model, threshold, metric, min_answers, representation)\u001b[0m\n\u001b[0;32m     16\u001b[0m                       representation=False):    \n\u001b[0;32m     17\u001b[0m \u001b[1;33m\u001b[0m\u001b[0m\n\u001b[1;32m---> 18\u001b[1;33m     \u001b[0mlist_answers\u001b[0m \u001b[1;33m=\u001b[0m \u001b[0mquestions_topic\u001b[0m\u001b[1;33m[\u001b[0m\u001b[1;34m'Answer'\u001b[0m\u001b[1;33m]\u001b[0m\u001b[1;33m.\u001b[0m\u001b[0mto_list\u001b[0m\u001b[1;33m(\u001b[0m\u001b[1;33m)\u001b[0m\u001b[1;33m\u001b[0m\u001b[1;33m\u001b[0m\u001b[0m\n\u001b[0m\u001b[0;32m     19\u001b[0m \u001b[1;33m\u001b[0m\u001b[0m\n\u001b[0;32m     20\u001b[0m     \u001b[1;32mif\u001b[0m \u001b[0mlen\u001b[0m\u001b[1;33m(\u001b[0m\u001b[0mlist_answers\u001b[0m\u001b[1;33m)\u001b[0m \u001b[1;33m<=\u001b[0m \u001b[0mmin_answers\u001b[0m\u001b[1;33m:\u001b[0m\u001b[1;33m\u001b[0m\u001b[1;33m\u001b[0m\u001b[0m\n",
      "\u001b[1;32m~\\AppData\\Local\\Packages\\PythonSoftwareFoundation.Python.3.9_qbz5n2kfra8p0\\LocalCache\\local-packages\\Python39\\site-packages\\pandas\\core\\frame.py\u001b[0m in \u001b[0;36m__getitem__\u001b[1;34m(self, key)\u001b[0m\n\u001b[0;32m   3456\u001b[0m             \u001b[1;32mif\u001b[0m \u001b[0mself\u001b[0m\u001b[1;33m.\u001b[0m\u001b[0mcolumns\u001b[0m\u001b[1;33m.\u001b[0m\u001b[0mnlevels\u001b[0m \u001b[1;33m>\u001b[0m \u001b[1;36m1\u001b[0m\u001b[1;33m:\u001b[0m\u001b[1;33m\u001b[0m\u001b[1;33m\u001b[0m\u001b[0m\n\u001b[0;32m   3457\u001b[0m                 \u001b[1;32mreturn\u001b[0m \u001b[0mself\u001b[0m\u001b[1;33m.\u001b[0m\u001b[0m_getitem_multilevel\u001b[0m\u001b[1;33m(\u001b[0m\u001b[0mkey\u001b[0m\u001b[1;33m)\u001b[0m\u001b[1;33m\u001b[0m\u001b[1;33m\u001b[0m\u001b[0m\n\u001b[1;32m-> 3458\u001b[1;33m             \u001b[0mindexer\u001b[0m \u001b[1;33m=\u001b[0m \u001b[0mself\u001b[0m\u001b[1;33m.\u001b[0m\u001b[0mcolumns\u001b[0m\u001b[1;33m.\u001b[0m\u001b[0mget_loc\u001b[0m\u001b[1;33m(\u001b[0m\u001b[0mkey\u001b[0m\u001b[1;33m)\u001b[0m\u001b[1;33m\u001b[0m\u001b[1;33m\u001b[0m\u001b[0m\n\u001b[0m\u001b[0;32m   3459\u001b[0m             \u001b[1;32mif\u001b[0m \u001b[0mis_integer\u001b[0m\u001b[1;33m(\u001b[0m\u001b[0mindexer\u001b[0m\u001b[1;33m)\u001b[0m\u001b[1;33m:\u001b[0m\u001b[1;33m\u001b[0m\u001b[1;33m\u001b[0m\u001b[0m\n\u001b[0;32m   3460\u001b[0m                 \u001b[0mindexer\u001b[0m \u001b[1;33m=\u001b[0m \u001b[1;33m[\u001b[0m\u001b[0mindexer\u001b[0m\u001b[1;33m]\u001b[0m\u001b[1;33m\u001b[0m\u001b[1;33m\u001b[0m\u001b[0m\n",
      "\u001b[1;32m~\\AppData\\Local\\Packages\\PythonSoftwareFoundation.Python.3.9_qbz5n2kfra8p0\\LocalCache\\local-packages\\Python39\\site-packages\\pandas\\core\\indexes\\base.py\u001b[0m in \u001b[0;36mget_loc\u001b[1;34m(self, key, method, tolerance)\u001b[0m\n\u001b[0;32m   3361\u001b[0m                 \u001b[1;32mreturn\u001b[0m \u001b[0mself\u001b[0m\u001b[1;33m.\u001b[0m\u001b[0m_engine\u001b[0m\u001b[1;33m.\u001b[0m\u001b[0mget_loc\u001b[0m\u001b[1;33m(\u001b[0m\u001b[0mcasted_key\u001b[0m\u001b[1;33m)\u001b[0m\u001b[1;33m\u001b[0m\u001b[1;33m\u001b[0m\u001b[0m\n\u001b[0;32m   3362\u001b[0m             \u001b[1;32mexcept\u001b[0m \u001b[0mKeyError\u001b[0m \u001b[1;32mas\u001b[0m \u001b[0merr\u001b[0m\u001b[1;33m:\u001b[0m\u001b[1;33m\u001b[0m\u001b[1;33m\u001b[0m\u001b[0m\n\u001b[1;32m-> 3363\u001b[1;33m                 \u001b[1;32mraise\u001b[0m \u001b[0mKeyError\u001b[0m\u001b[1;33m(\u001b[0m\u001b[0mkey\u001b[0m\u001b[1;33m)\u001b[0m \u001b[1;32mfrom\u001b[0m \u001b[0merr\u001b[0m\u001b[1;33m\u001b[0m\u001b[1;33m\u001b[0m\u001b[0m\n\u001b[0m\u001b[0;32m   3364\u001b[0m \u001b[1;33m\u001b[0m\u001b[0m\n\u001b[0;32m   3365\u001b[0m         \u001b[1;32mif\u001b[0m \u001b[0mis_scalar\u001b[0m\u001b[1;33m(\u001b[0m\u001b[0mkey\u001b[0m\u001b[1;33m)\u001b[0m \u001b[1;32mand\u001b[0m \u001b[0misna\u001b[0m\u001b[1;33m(\u001b[0m\u001b[0mkey\u001b[0m\u001b[1;33m)\u001b[0m \u001b[1;32mand\u001b[0m \u001b[1;32mnot\u001b[0m \u001b[0mself\u001b[0m\u001b[1;33m.\u001b[0m\u001b[0mhasnans\u001b[0m\u001b[1;33m:\u001b[0m\u001b[1;33m\u001b[0m\u001b[1;33m\u001b[0m\u001b[0m\n",
      "\u001b[1;31mKeyError\u001b[0m: 'Answer'"
     ]
    }
   ],
   "source": [
    "def get_n_clusters(list_silhouette, list_silhouette_per_k):\n",
    "    vals = 0\n",
    "    ratio = 0\n",
    "    num_clusters = 1\n",
    "    for i, (k, v) in enumerate(zip(list_silhouette, list_silhouette_per_k)):\n",
    "        d = np.count_nonzero(v > k, axis=0)\n",
    "        if d > vals:\n",
    "            vals = d\n",
    "            ratio = d / len(v)\n",
    "            num_clusters = i + 2\n",
    "    print('There are {} possible answers with d={}, vals={} and ratio={}'.format(num_clusters, d, vals, ratio))\n",
    "    return num_clusters\n",
    "\n",
    "def get_chatbot_likes_lfd(questions_topic, embedding_model,\n",
    "                      threshold=0.95, metric='median', min_answers=1, \n",
    "                      representation=False):    \n",
    "    \n",
    "    list_answers = questions_topic['Answer'].to_list()\n",
    "\n",
    "    if len(list_answers) <= min_answers:\n",
    "        aux_answer = max(set(list_answers), key = list_answers.count)\n",
    "        if list_answers.count(aux_answer) == 1:\n",
    "            return random.choice(list_answers)\n",
    "        else: \n",
    "            return aux_answer\n",
    "\n",
    "    dict_answers_and_chatbots = dict()\n",
    "    dict_answers_and_chatbots['list_answers'] = list_answers\n",
    "    list_embedding_answers = computing_embedding_list(dict_answers_and_chatbots['list_answers'])\n",
    "    dict_answers_and_chatbots['list_embeddings'] = list_embedding_answers\n",
    "    mean_embedding_answer = mean_embedding(list_embedding_answers)\n",
    "    list_emb_reduce = reduce_dimensionality(list_embedding_answers, mean_embedding_answer)\n",
    "    #d = cluster_metrics(list_emb_reduce)\n",
    "    #print(d)\n",
    "\n",
    "    list_silhouette_score, list_silhoutte_scores_per_class = get_silhouette_score(list_emb_reduce)\n",
    "    # print(list_silhouette_score)\n",
    "    # print(list_silhoutte_scores_per_class)\n",
    "    n_clusters = get_n_clusters(list_silhouette_score, list_silhoutte_scores_per_class)\n",
    "    # print(n_clusters)\n",
    "    # scaler = StandardScaler()\n",
    "    # list_emb_reduce_scale = scaler.fit_transform(list_emb_reduce)\n",
    "\n",
    "    # main_chatbot_answer_vectors, main_answers = get_main_answer(n_clusters, list_emb_reduce_scale, \n",
    "    #                                                         dict_answers_and_chatbots['list_answers'], \n",
    "    #                                                         metric=metric)\n",
    "    if representation == True:\n",
    "        cluster_representation(list_answers, list_emb_reduce_scale)\n",
    "    # return main_answers, n_clusters\n",
    "    return _, n_clusters\n",
    "\n",
    "embedding_model = SentenceTransformer('all-mpnet-base-v2')\n",
    "# for i in range(1, 16):\n",
    "#     _, n = get_chatbot_likes_lfd(data.loc[data['Group_Id'] == i], embedding_model=embedding_model)\n",
    "#     print(i, n)\n",
    "\n",
    "tabs = ['Seeker (Meta)', 'DialoGPT-Large', 'BlenderBot_3B', 'BlenderBotV2']\n",
    "predicted = list()\n",
    "for i, t in enumerate(tabs):\n",
    "    print('Reading tab {}'.format(t))\n",
    "    data = pd.read_excel(DATA_PATH, sheet_name=t)\n",
    "    data = data.dropna(subset=['Id'])\n",
    "    for i in range(1, 16):\n",
    "        _, n = get_chatbot_likes_lfd(data.loc[data['Group_Id'] == i], embedding_model=embedding_model)\n",
    "        predicted.append((t, i, n))\n",
    "\n",
    "print(predicted)"
   ]
  },
  {
   "cell_type": "code",
   "execution_count": 53,
   "metadata": {},
   "outputs": [
    {
     "data": {
      "application/vnd.plotly.v1+json": {
       "config": {
        "plotlyServerURL": "https://plot.ly"
       },
       "data": [
        {
         "customdata": [
          [
           0,
           "book | always | read | reading | favorite",
           12
          ],
          [
           1,
           "author | writer | who | literature | shakespeare",
           12
          ],
          [
           2,
           "how | many | old | are | have",
           11
          ],
          [
           3,
           "color | rainbow | why | the | like",
           11
          ],
          [
           4,
           "food | eat | will | to | which",
           10
          ],
          [
           5,
           "singer | who | is | the | like",
           9
          ],
          [
           6,
           "actor | watching | movies | who | preferred",
           9
          ],
          [
           7,
           "movie | will | me | which | star",
           8
          ],
          [
           8,
           "song | thriller | singing | favorite | is",
           7
          ],
          [
           9,
           "sport | or | play | basketball | football",
           7
          ],
          [
           10,
           "animal | loved | most | of | type",
           5
          ],
          [
           11,
           "job | for | do | what | work",
           4
          ],
          [
           12,
           "country | visit | would | recommend | trip",
           4
          ]
         ],
         "hovertemplate": "<b>Topic %{customdata[0]}</b><br>Words: %{customdata[1]}<br>Size: %{customdata[2]}",
         "legendgroup": "",
         "marker": {
          "color": "#B0BEC5",
          "line": {
           "color": "DarkSlateGrey",
           "width": 2
          },
          "size": [
           12,
           12,
           11,
           11,
           10,
           9,
           9,
           8,
           7,
           7,
           5,
           4,
           4
          ],
          "sizemode": "area",
          "sizeref": 0.0075,
          "symbol": "circle"
         },
         "mode": "markers",
         "name": "",
         "orientation": "v",
         "showlegend": false,
         "type": "scatter",
         "x": [
          4.834869384765625,
          4.162688255310059,
          -0.031225714832544327,
          2.4788336753845215,
          4.358166217803955,
          4.761144161224365,
          4.45846700668335,
          3.8108439445495605,
          4.758779048919678,
          2.56166672706604,
          1.887170672416687,
          1.6601511240005493,
          0.44734787940979004
         ],
         "xaxis": "x",
         "y": [
          2.9379799365997314,
          0.6447852253913879,
          4.228053569793701,
          4.040104866027832,
          2.595686435699463,
          1.614957571029663,
          1.0209540128707886,
          2.391873836517334,
          2.3396308422088623,
          3.5332412719726562,
          3.14375638961792,
          3.473133087158203,
          3.939448356628418
         ],
         "yaxis": "y"
        }
       ],
       "layout": {
        "annotations": [
         {
          "showarrow": false,
          "text": "D1",
          "x": -0.035909572057425974,
          "y": 2.705164523422718,
          "yshift": 10
         },
         {
          "showarrow": false,
          "text": "D2",
          "x": 2.7620951102115217,
          "xshift": 10,
          "y": 4.8622616052627565
         }
        ],
        "height": 650,
        "hoverlabel": {
         "bgcolor": "white",
         "font": {
          "family": "Rockwell",
          "size": 16
         }
        },
        "legend": {
         "itemsizing": "constant",
         "tracegroupgap": 0
        },
        "margin": {
         "t": 60
        },
        "shapes": [
         {
          "line": {
           "color": "#CFD8DC",
           "width": 2
          },
          "type": "line",
          "x0": 2.7620951102115217,
          "x1": 2.7620951102115217,
          "y0": 0.5480674415826797,
          "y1": 4.8622616052627565
         },
         {
          "line": {
           "color": "#9E9E9E",
           "width": 2
          },
          "type": "line",
          "x0": -0.035909572057425974,
          "x1": 5.560099792480469,
          "y0": 2.705164523422718,
          "y1": 2.705164523422718
         }
        ],
        "sliders": [
         {
          "active": 0,
          "pad": {
           "t": 50
          },
          "steps": [
           {
            "args": [
             {
              "marker.color": [
               [
                "red",
                "#B0BEC5",
                "#B0BEC5",
                "#B0BEC5",
                "#B0BEC5",
                "#B0BEC5",
                "#B0BEC5",
                "#B0BEC5",
                "#B0BEC5",
                "#B0BEC5",
                "#B0BEC5",
                "#B0BEC5",
                "#B0BEC5"
               ]
              ]
             }
            ],
            "label": "Topic 0",
            "method": "update"
           },
           {
            "args": [
             {
              "marker.color": [
               [
                "#B0BEC5",
                "red",
                "#B0BEC5",
                "#B0BEC5",
                "#B0BEC5",
                "#B0BEC5",
                "#B0BEC5",
                "#B0BEC5",
                "#B0BEC5",
                "#B0BEC5",
                "#B0BEC5",
                "#B0BEC5",
                "#B0BEC5"
               ]
              ]
             }
            ],
            "label": "Topic 1",
            "method": "update"
           },
           {
            "args": [
             {
              "marker.color": [
               [
                "#B0BEC5",
                "#B0BEC5",
                "red",
                "#B0BEC5",
                "#B0BEC5",
                "#B0BEC5",
                "#B0BEC5",
                "#B0BEC5",
                "#B0BEC5",
                "#B0BEC5",
                "#B0BEC5",
                "#B0BEC5",
                "#B0BEC5"
               ]
              ]
             }
            ],
            "label": "Topic 2",
            "method": "update"
           },
           {
            "args": [
             {
              "marker.color": [
               [
                "#B0BEC5",
                "#B0BEC5",
                "#B0BEC5",
                "red",
                "#B0BEC5",
                "#B0BEC5",
                "#B0BEC5",
                "#B0BEC5",
                "#B0BEC5",
                "#B0BEC5",
                "#B0BEC5",
                "#B0BEC5",
                "#B0BEC5"
               ]
              ]
             }
            ],
            "label": "Topic 3",
            "method": "update"
           },
           {
            "args": [
             {
              "marker.color": [
               [
                "#B0BEC5",
                "#B0BEC5",
                "#B0BEC5",
                "#B0BEC5",
                "red",
                "#B0BEC5",
                "#B0BEC5",
                "#B0BEC5",
                "#B0BEC5",
                "#B0BEC5",
                "#B0BEC5",
                "#B0BEC5",
                "#B0BEC5"
               ]
              ]
             }
            ],
            "label": "Topic 4",
            "method": "update"
           },
           {
            "args": [
             {
              "marker.color": [
               [
                "#B0BEC5",
                "#B0BEC5",
                "#B0BEC5",
                "#B0BEC5",
                "#B0BEC5",
                "red",
                "#B0BEC5",
                "#B0BEC5",
                "#B0BEC5",
                "#B0BEC5",
                "#B0BEC5",
                "#B0BEC5",
                "#B0BEC5"
               ]
              ]
             }
            ],
            "label": "Topic 5",
            "method": "update"
           },
           {
            "args": [
             {
              "marker.color": [
               [
                "#B0BEC5",
                "#B0BEC5",
                "#B0BEC5",
                "#B0BEC5",
                "#B0BEC5",
                "#B0BEC5",
                "red",
                "#B0BEC5",
                "#B0BEC5",
                "#B0BEC5",
                "#B0BEC5",
                "#B0BEC5",
                "#B0BEC5"
               ]
              ]
             }
            ],
            "label": "Topic 6",
            "method": "update"
           },
           {
            "args": [
             {
              "marker.color": [
               [
                "#B0BEC5",
                "#B0BEC5",
                "#B0BEC5",
                "#B0BEC5",
                "#B0BEC5",
                "#B0BEC5",
                "#B0BEC5",
                "red",
                "#B0BEC5",
                "#B0BEC5",
                "#B0BEC5",
                "#B0BEC5",
                "#B0BEC5"
               ]
              ]
             }
            ],
            "label": "Topic 7",
            "method": "update"
           },
           {
            "args": [
             {
              "marker.color": [
               [
                "#B0BEC5",
                "#B0BEC5",
                "#B0BEC5",
                "#B0BEC5",
                "#B0BEC5",
                "#B0BEC5",
                "#B0BEC5",
                "#B0BEC5",
                "red",
                "#B0BEC5",
                "#B0BEC5",
                "#B0BEC5",
                "#B0BEC5"
               ]
              ]
             }
            ],
            "label": "Topic 8",
            "method": "update"
           },
           {
            "args": [
             {
              "marker.color": [
               [
                "#B0BEC5",
                "#B0BEC5",
                "#B0BEC5",
                "#B0BEC5",
                "#B0BEC5",
                "#B0BEC5",
                "#B0BEC5",
                "#B0BEC5",
                "#B0BEC5",
                "red",
                "#B0BEC5",
                "#B0BEC5",
                "#B0BEC5"
               ]
              ]
             }
            ],
            "label": "Topic 9",
            "method": "update"
           },
           {
            "args": [
             {
              "marker.color": [
               [
                "#B0BEC5",
                "#B0BEC5",
                "#B0BEC5",
                "#B0BEC5",
                "#B0BEC5",
                "#B0BEC5",
                "#B0BEC5",
                "#B0BEC5",
                "#B0BEC5",
                "#B0BEC5",
                "red",
                "#B0BEC5",
                "#B0BEC5"
               ]
              ]
             }
            ],
            "label": "Topic 10",
            "method": "update"
           },
           {
            "args": [
             {
              "marker.color": [
               [
                "#B0BEC5",
                "#B0BEC5",
                "#B0BEC5",
                "#B0BEC5",
                "#B0BEC5",
                "#B0BEC5",
                "#B0BEC5",
                "#B0BEC5",
                "#B0BEC5",
                "#B0BEC5",
                "#B0BEC5",
                "red",
                "#B0BEC5"
               ]
              ]
             }
            ],
            "label": "Topic 11",
            "method": "update"
           },
           {
            "args": [
             {
              "marker.color": [
               [
                "#B0BEC5",
                "#B0BEC5",
                "#B0BEC5",
                "#B0BEC5",
                "#B0BEC5",
                "#B0BEC5",
                "#B0BEC5",
                "#B0BEC5",
                "#B0BEC5",
                "#B0BEC5",
                "#B0BEC5",
                "#B0BEC5",
                "red"
               ]
              ]
             }
            ],
            "label": "Topic 12",
            "method": "update"
           }
          ]
         }
        ],
        "template": {
         "data": {
          "bar": [
           {
            "error_x": {
             "color": "rgb(36,36,36)"
            },
            "error_y": {
             "color": "rgb(36,36,36)"
            },
            "marker": {
             "line": {
              "color": "white",
              "width": 0.5
             },
             "pattern": {
              "fillmode": "overlay",
              "size": 10,
              "solidity": 0.2
             }
            },
            "type": "bar"
           }
          ],
          "barpolar": [
           {
            "marker": {
             "line": {
              "color": "white",
              "width": 0.5
             },
             "pattern": {
              "fillmode": "overlay",
              "size": 10,
              "solidity": 0.2
             }
            },
            "type": "barpolar"
           }
          ],
          "carpet": [
           {
            "aaxis": {
             "endlinecolor": "rgb(36,36,36)",
             "gridcolor": "white",
             "linecolor": "white",
             "minorgridcolor": "white",
             "startlinecolor": "rgb(36,36,36)"
            },
            "baxis": {
             "endlinecolor": "rgb(36,36,36)",
             "gridcolor": "white",
             "linecolor": "white",
             "minorgridcolor": "white",
             "startlinecolor": "rgb(36,36,36)"
            },
            "type": "carpet"
           }
          ],
          "choropleth": [
           {
            "colorbar": {
             "outlinewidth": 1,
             "tickcolor": "rgb(36,36,36)",
             "ticks": "outside"
            },
            "type": "choropleth"
           }
          ],
          "contour": [
           {
            "colorbar": {
             "outlinewidth": 1,
             "tickcolor": "rgb(36,36,36)",
             "ticks": "outside"
            },
            "colorscale": [
             [
              0,
              "#440154"
             ],
             [
              0.1111111111111111,
              "#482878"
             ],
             [
              0.2222222222222222,
              "#3e4989"
             ],
             [
              0.3333333333333333,
              "#31688e"
             ],
             [
              0.4444444444444444,
              "#26828e"
             ],
             [
              0.5555555555555556,
              "#1f9e89"
             ],
             [
              0.6666666666666666,
              "#35b779"
             ],
             [
              0.7777777777777778,
              "#6ece58"
             ],
             [
              0.8888888888888888,
              "#b5de2b"
             ],
             [
              1,
              "#fde725"
             ]
            ],
            "type": "contour"
           }
          ],
          "contourcarpet": [
           {
            "colorbar": {
             "outlinewidth": 1,
             "tickcolor": "rgb(36,36,36)",
             "ticks": "outside"
            },
            "type": "contourcarpet"
           }
          ],
          "heatmap": [
           {
            "colorbar": {
             "outlinewidth": 1,
             "tickcolor": "rgb(36,36,36)",
             "ticks": "outside"
            },
            "colorscale": [
             [
              0,
              "#440154"
             ],
             [
              0.1111111111111111,
              "#482878"
             ],
             [
              0.2222222222222222,
              "#3e4989"
             ],
             [
              0.3333333333333333,
              "#31688e"
             ],
             [
              0.4444444444444444,
              "#26828e"
             ],
             [
              0.5555555555555556,
              "#1f9e89"
             ],
             [
              0.6666666666666666,
              "#35b779"
             ],
             [
              0.7777777777777778,
              "#6ece58"
             ],
             [
              0.8888888888888888,
              "#b5de2b"
             ],
             [
              1,
              "#fde725"
             ]
            ],
            "type": "heatmap"
           }
          ],
          "heatmapgl": [
           {
            "colorbar": {
             "outlinewidth": 1,
             "tickcolor": "rgb(36,36,36)",
             "ticks": "outside"
            },
            "colorscale": [
             [
              0,
              "#440154"
             ],
             [
              0.1111111111111111,
              "#482878"
             ],
             [
              0.2222222222222222,
              "#3e4989"
             ],
             [
              0.3333333333333333,
              "#31688e"
             ],
             [
              0.4444444444444444,
              "#26828e"
             ],
             [
              0.5555555555555556,
              "#1f9e89"
             ],
             [
              0.6666666666666666,
              "#35b779"
             ],
             [
              0.7777777777777778,
              "#6ece58"
             ],
             [
              0.8888888888888888,
              "#b5de2b"
             ],
             [
              1,
              "#fde725"
             ]
            ],
            "type": "heatmapgl"
           }
          ],
          "histogram": [
           {
            "marker": {
             "line": {
              "color": "white",
              "width": 0.6
             }
            },
            "type": "histogram"
           }
          ],
          "histogram2d": [
           {
            "colorbar": {
             "outlinewidth": 1,
             "tickcolor": "rgb(36,36,36)",
             "ticks": "outside"
            },
            "colorscale": [
             [
              0,
              "#440154"
             ],
             [
              0.1111111111111111,
              "#482878"
             ],
             [
              0.2222222222222222,
              "#3e4989"
             ],
             [
              0.3333333333333333,
              "#31688e"
             ],
             [
              0.4444444444444444,
              "#26828e"
             ],
             [
              0.5555555555555556,
              "#1f9e89"
             ],
             [
              0.6666666666666666,
              "#35b779"
             ],
             [
              0.7777777777777778,
              "#6ece58"
             ],
             [
              0.8888888888888888,
              "#b5de2b"
             ],
             [
              1,
              "#fde725"
             ]
            ],
            "type": "histogram2d"
           }
          ],
          "histogram2dcontour": [
           {
            "colorbar": {
             "outlinewidth": 1,
             "tickcolor": "rgb(36,36,36)",
             "ticks": "outside"
            },
            "colorscale": [
             [
              0,
              "#440154"
             ],
             [
              0.1111111111111111,
              "#482878"
             ],
             [
              0.2222222222222222,
              "#3e4989"
             ],
             [
              0.3333333333333333,
              "#31688e"
             ],
             [
              0.4444444444444444,
              "#26828e"
             ],
             [
              0.5555555555555556,
              "#1f9e89"
             ],
             [
              0.6666666666666666,
              "#35b779"
             ],
             [
              0.7777777777777778,
              "#6ece58"
             ],
             [
              0.8888888888888888,
              "#b5de2b"
             ],
             [
              1,
              "#fde725"
             ]
            ],
            "type": "histogram2dcontour"
           }
          ],
          "mesh3d": [
           {
            "colorbar": {
             "outlinewidth": 1,
             "tickcolor": "rgb(36,36,36)",
             "ticks": "outside"
            },
            "type": "mesh3d"
           }
          ],
          "parcoords": [
           {
            "line": {
             "colorbar": {
              "outlinewidth": 1,
              "tickcolor": "rgb(36,36,36)",
              "ticks": "outside"
             }
            },
            "type": "parcoords"
           }
          ],
          "pie": [
           {
            "automargin": true,
            "type": "pie"
           }
          ],
          "scatter": [
           {
            "marker": {
             "colorbar": {
              "outlinewidth": 1,
              "tickcolor": "rgb(36,36,36)",
              "ticks": "outside"
             }
            },
            "type": "scatter"
           }
          ],
          "scatter3d": [
           {
            "line": {
             "colorbar": {
              "outlinewidth": 1,
              "tickcolor": "rgb(36,36,36)",
              "ticks": "outside"
             }
            },
            "marker": {
             "colorbar": {
              "outlinewidth": 1,
              "tickcolor": "rgb(36,36,36)",
              "ticks": "outside"
             }
            },
            "type": "scatter3d"
           }
          ],
          "scattercarpet": [
           {
            "marker": {
             "colorbar": {
              "outlinewidth": 1,
              "tickcolor": "rgb(36,36,36)",
              "ticks": "outside"
             }
            },
            "type": "scattercarpet"
           }
          ],
          "scattergeo": [
           {
            "marker": {
             "colorbar": {
              "outlinewidth": 1,
              "tickcolor": "rgb(36,36,36)",
              "ticks": "outside"
             }
            },
            "type": "scattergeo"
           }
          ],
          "scattergl": [
           {
            "marker": {
             "colorbar": {
              "outlinewidth": 1,
              "tickcolor": "rgb(36,36,36)",
              "ticks": "outside"
             }
            },
            "type": "scattergl"
           }
          ],
          "scattermapbox": [
           {
            "marker": {
             "colorbar": {
              "outlinewidth": 1,
              "tickcolor": "rgb(36,36,36)",
              "ticks": "outside"
             }
            },
            "type": "scattermapbox"
           }
          ],
          "scatterpolar": [
           {
            "marker": {
             "colorbar": {
              "outlinewidth": 1,
              "tickcolor": "rgb(36,36,36)",
              "ticks": "outside"
             }
            },
            "type": "scatterpolar"
           }
          ],
          "scatterpolargl": [
           {
            "marker": {
             "colorbar": {
              "outlinewidth": 1,
              "tickcolor": "rgb(36,36,36)",
              "ticks": "outside"
             }
            },
            "type": "scatterpolargl"
           }
          ],
          "scatterternary": [
           {
            "marker": {
             "colorbar": {
              "outlinewidth": 1,
              "tickcolor": "rgb(36,36,36)",
              "ticks": "outside"
             }
            },
            "type": "scatterternary"
           }
          ],
          "surface": [
           {
            "colorbar": {
             "outlinewidth": 1,
             "tickcolor": "rgb(36,36,36)",
             "ticks": "outside"
            },
            "colorscale": [
             [
              0,
              "#440154"
             ],
             [
              0.1111111111111111,
              "#482878"
             ],
             [
              0.2222222222222222,
              "#3e4989"
             ],
             [
              0.3333333333333333,
              "#31688e"
             ],
             [
              0.4444444444444444,
              "#26828e"
             ],
             [
              0.5555555555555556,
              "#1f9e89"
             ],
             [
              0.6666666666666666,
              "#35b779"
             ],
             [
              0.7777777777777778,
              "#6ece58"
             ],
             [
              0.8888888888888888,
              "#b5de2b"
             ],
             [
              1,
              "#fde725"
             ]
            ],
            "type": "surface"
           }
          ],
          "table": [
           {
            "cells": {
             "fill": {
              "color": "rgb(237,237,237)"
             },
             "line": {
              "color": "white"
             }
            },
            "header": {
             "fill": {
              "color": "rgb(217,217,217)"
             },
             "line": {
              "color": "white"
             }
            },
            "type": "table"
           }
          ]
         },
         "layout": {
          "annotationdefaults": {
           "arrowhead": 0,
           "arrowwidth": 1
          },
          "autotypenumbers": "strict",
          "coloraxis": {
           "colorbar": {
            "outlinewidth": 1,
            "tickcolor": "rgb(36,36,36)",
            "ticks": "outside"
           }
          },
          "colorscale": {
           "diverging": [
            [
             0,
             "rgb(103,0,31)"
            ],
            [
             0.1,
             "rgb(178,24,43)"
            ],
            [
             0.2,
             "rgb(214,96,77)"
            ],
            [
             0.3,
             "rgb(244,165,130)"
            ],
            [
             0.4,
             "rgb(253,219,199)"
            ],
            [
             0.5,
             "rgb(247,247,247)"
            ],
            [
             0.6,
             "rgb(209,229,240)"
            ],
            [
             0.7,
             "rgb(146,197,222)"
            ],
            [
             0.8,
             "rgb(67,147,195)"
            ],
            [
             0.9,
             "rgb(33,102,172)"
            ],
            [
             1,
             "rgb(5,48,97)"
            ]
           ],
           "sequential": [
            [
             0,
             "#440154"
            ],
            [
             0.1111111111111111,
             "#482878"
            ],
            [
             0.2222222222222222,
             "#3e4989"
            ],
            [
             0.3333333333333333,
             "#31688e"
            ],
            [
             0.4444444444444444,
             "#26828e"
            ],
            [
             0.5555555555555556,
             "#1f9e89"
            ],
            [
             0.6666666666666666,
             "#35b779"
            ],
            [
             0.7777777777777778,
             "#6ece58"
            ],
            [
             0.8888888888888888,
             "#b5de2b"
            ],
            [
             1,
             "#fde725"
            ]
           ],
           "sequentialminus": [
            [
             0,
             "#440154"
            ],
            [
             0.1111111111111111,
             "#482878"
            ],
            [
             0.2222222222222222,
             "#3e4989"
            ],
            [
             0.3333333333333333,
             "#31688e"
            ],
            [
             0.4444444444444444,
             "#26828e"
            ],
            [
             0.5555555555555556,
             "#1f9e89"
            ],
            [
             0.6666666666666666,
             "#35b779"
            ],
            [
             0.7777777777777778,
             "#6ece58"
            ],
            [
             0.8888888888888888,
             "#b5de2b"
            ],
            [
             1,
             "#fde725"
            ]
           ]
          },
          "colorway": [
           "#1F77B4",
           "#FF7F0E",
           "#2CA02C",
           "#D62728",
           "#9467BD",
           "#8C564B",
           "#E377C2",
           "#7F7F7F",
           "#BCBD22",
           "#17BECF"
          ],
          "font": {
           "color": "rgb(36,36,36)"
          },
          "geo": {
           "bgcolor": "white",
           "lakecolor": "white",
           "landcolor": "white",
           "showlakes": true,
           "showland": true,
           "subunitcolor": "white"
          },
          "hoverlabel": {
           "align": "left"
          },
          "hovermode": "closest",
          "mapbox": {
           "style": "light"
          },
          "paper_bgcolor": "white",
          "plot_bgcolor": "white",
          "polar": {
           "angularaxis": {
            "gridcolor": "rgb(232,232,232)",
            "linecolor": "rgb(36,36,36)",
            "showgrid": false,
            "showline": true,
            "ticks": "outside"
           },
           "bgcolor": "white",
           "radialaxis": {
            "gridcolor": "rgb(232,232,232)",
            "linecolor": "rgb(36,36,36)",
            "showgrid": false,
            "showline": true,
            "ticks": "outside"
           }
          },
          "scene": {
           "xaxis": {
            "backgroundcolor": "white",
            "gridcolor": "rgb(232,232,232)",
            "gridwidth": 2,
            "linecolor": "rgb(36,36,36)",
            "showbackground": true,
            "showgrid": false,
            "showline": true,
            "ticks": "outside",
            "zeroline": false,
            "zerolinecolor": "rgb(36,36,36)"
           },
           "yaxis": {
            "backgroundcolor": "white",
            "gridcolor": "rgb(232,232,232)",
            "gridwidth": 2,
            "linecolor": "rgb(36,36,36)",
            "showbackground": true,
            "showgrid": false,
            "showline": true,
            "ticks": "outside",
            "zeroline": false,
            "zerolinecolor": "rgb(36,36,36)"
           },
           "zaxis": {
            "backgroundcolor": "white",
            "gridcolor": "rgb(232,232,232)",
            "gridwidth": 2,
            "linecolor": "rgb(36,36,36)",
            "showbackground": true,
            "showgrid": false,
            "showline": true,
            "ticks": "outside",
            "zeroline": false,
            "zerolinecolor": "rgb(36,36,36)"
           }
          },
          "shapedefaults": {
           "fillcolor": "black",
           "line": {
            "width": 0
           },
           "opacity": 0.3
          },
          "ternary": {
           "aaxis": {
            "gridcolor": "rgb(232,232,232)",
            "linecolor": "rgb(36,36,36)",
            "showgrid": false,
            "showline": true,
            "ticks": "outside"
           },
           "baxis": {
            "gridcolor": "rgb(232,232,232)",
            "linecolor": "rgb(36,36,36)",
            "showgrid": false,
            "showline": true,
            "ticks": "outside"
           },
           "bgcolor": "white",
           "caxis": {
            "gridcolor": "rgb(232,232,232)",
            "linecolor": "rgb(36,36,36)",
            "showgrid": false,
            "showline": true,
            "ticks": "outside"
           }
          },
          "title": {
           "x": 0.05
          },
          "xaxis": {
           "automargin": true,
           "gridcolor": "rgb(232,232,232)",
           "linecolor": "rgb(36,36,36)",
           "showgrid": false,
           "showline": true,
           "ticks": "outside",
           "title": {
            "standoff": 15
           },
           "zeroline": false,
           "zerolinecolor": "rgb(36,36,36)"
          },
          "yaxis": {
           "automargin": true,
           "gridcolor": "rgb(232,232,232)",
           "linecolor": "rgb(36,36,36)",
           "showgrid": false,
           "showline": true,
           "ticks": "outside",
           "title": {
            "standoff": 15
           },
           "zeroline": false,
           "zerolinecolor": "rgb(36,36,36)"
          }
         }
        },
        "title": {
         "font": {
          "color": "Black",
          "size": 22
         },
         "text": "<b>Intertopic Distance Map",
         "x": 0.5,
         "xanchor": "center",
         "y": 0.95,
         "yanchor": "top"
        },
        "width": 650,
        "xaxis": {
         "anchor": "y",
         "domain": [
          0,
          1
         ],
         "range": [
          -0.035909572057425974,
          5.560099792480469
         ],
         "title": {
          "text": ""
         },
         "visible": false
        },
        "yaxis": {
         "anchor": "x",
         "domain": [
          0,
          1
         ],
         "range": [
          0.5480674415826797,
          4.8622616052627565
         ],
         "title": {
          "text": ""
         },
         "visible": false
        }
       }
      }
     },
     "metadata": {},
     "output_type": "display_data"
    }
   ],
   "source": [
    "topic_model.visualize_topics()"
   ]
  },
  {
   "cell_type": "code",
   "execution_count": 54,
   "metadata": {},
   "outputs": [
    {
     "data": {
      "application/vnd.plotly.v1+json": {
       "config": {
        "plotlyServerURL": "https://plot.ly"
       },
       "data": [
        {
         "hoverinfo": "text",
         "hovertext": [
          null
         ],
         "marker": {
          "color": "#CFD8DC",
          "opacity": 0.5,
          "size": 5
         },
         "mode": "markers+text",
         "name": "other",
         "showlegend": false,
         "type": "scattergl",
         "x": [
          null
         ],
         "y": [
          null
         ]
        },
        {
         "hoverinfo": "text",
         "hovertext": [
          "Hi!! I like reading, what is your favorite book?",
          "Which book would you recommend reading?",
          "What is your bestselling book?",
          "Which book you always like to read?",
          "My favorite book is Frankenstein, and yours?",
          "What is the title of your favorite book?",
          "What is your favorite book?",
          "Which is the book you like the most?",
          "What’s your favorite book?",
          "Which book you always like to read?",
          "Do you have a favorite book?",
          "Which is your favorite book?",
          null
         ],
         "marker": {
          "opacity": 0.5,
          "size": 5
         },
         "mode": "markers+text",
         "name": "0_book_always_read",
         "text": [
          "",
          "",
          "",
          "",
          "",
          "",
          "",
          "",
          "",
          "",
          "",
          "",
          "0_book_always_read"
         ],
         "textfont": {
          "size": 12
         },
         "type": "scattergl",
         "x": [
          10.821938514709473,
          10.620849609375,
          10.898558616638184,
          10.659299850463867,
          11.117992401123047,
          11.028276443481445,
          10.997170448303223,
          10.808267593383789,
          11.065747261047363,
          10.719011306762695,
          11.101653099060059,
          10.88182544708252,
          10.89338207244873
         ],
         "y": [
          12.500036239624023,
          12.705360412597656,
          12.518864631652832,
          12.778108596801758,
          12.744747161865234,
          12.619584083557129,
          12.765324592590332,
          12.994011878967285,
          12.744619369506836,
          12.867496490478516,
          12.753521919250488,
          12.797079086303711,
          12.732396125793457
         ]
        },
        {
         "hoverinfo": "text",
         "hovertext": [
          null,
          "Who is your preferred author?",
          "Which is the writer you like the most?",
          "Who is your favorite writer?",
          "Who is your preferred writer?",
          "My favorite writer is Shakespeare, and yours?",
          "My favorite author is Shakespeare, and yours?",
          "Which is the author you like the most?",
          "Hi!! I like literature, who is your favorite writer?",
          "Do you have a favorite author?",
          "Who is your favorite author?",
          "Hi!! I like literature, who is your favorite author?"
         ],
         "marker": {
          "opacity": 0.5,
          "size": 5
         },
         "mode": "markers+text",
         "name": "1_author_writer_who",
         "text": [
          "1_author_writer_who",
          "",
          "",
          "",
          "",
          "",
          "",
          "",
          "",
          "",
          "",
          ""
         ],
         "textfont": {
          "size": 12
         },
         "type": "scattergl",
         "x": [
          9.389100074768066,
          9.095136642456055,
          9.072635650634766,
          9.192900657653809,
          9.080863952636719,
          9.653719902038574,
          9.619022369384766,
          9.286580085754395,
          9.520983695983887,
          9.368669509887695,
          9.351241111755371,
          9.54132080078125
         ],
         "y": [
          14.666709899902344,
          14.67979621887207,
          14.840507507324219,
          14.710291862487793,
          14.711517333984375,
          14.51251220703125,
          14.660906791687012,
          14.567636489868164,
          14.816518783569336,
          14.858240127563477,
          14.545868873596191,
          14.62398624420166
         ]
        },
        {
         "hoverinfo": "text",
         "hovertext": [
          "How many times has the Earth gone around the sun since you were born?",
          "What is your age?",
          "How many turns around the sun do you have?",
          "Do you have any children?",
          "Do you have any kids?",
          "How old are you?",
          "May I know how old are you?",
          "How Old Did You Turn?",
          "How many kids do you have?",
          "How many children do you have?",
          "May I ask you how old are you?",
          null
         ],
         "marker": {
          "opacity": 0.5,
          "size": 5
         },
         "mode": "markers+text",
         "name": "2_how_many_old",
         "text": [
          "",
          "",
          "",
          "",
          "",
          "",
          "",
          "",
          "",
          "",
          "",
          "2_how_many_old"
         ],
         "textfont": {
          "size": 12
         },
         "type": "scattergl",
         "x": [
          -7.551217555999756,
          -7.720221996307373,
          -7.455860137939453,
          -7.892807483673096,
          -7.809986591339111,
          -7.745518684387207,
          -7.73853874206543,
          -7.7543439865112305,
          -7.747241497039795,
          -7.7419281005859375,
          -7.776668548583984,
          -7.721302509307861
         ],
         "y": [
          7.181468963623047,
          6.8763604164123535,
          7.218272686004639,
          7.235443592071533,
          7.246179103851318,
          6.860199451446533,
          6.946149826049805,
          6.971301078796387,
          7.322930335998535,
          7.350083827972412,
          6.94441032409668,
          7.104800224304199
         ]
        },
        {
         "hoverinfo": "text",
         "hovertext": [
          "Why do you like the rainbow?",
          "What is your favorite color?",
          "Hi!! I like painting, what is your favorite color?",
          "Which is your favorite color?",
          "Why is it you love the rainbow?",
          "Tell me your favorite color?",
          "Which is the color you like the most?",
          "What is the reason do you like the rainbow?",
          "Which color do you prefer to wear?",
          "What color do you like to dress?",
          "My favorite color is green, and yours?",
          null
         ],
         "marker": {
          "opacity": 0.5,
          "size": 5
         },
         "mode": "markers+text",
         "name": "3_color_rainbow_why",
         "text": [
          "",
          "",
          "",
          "",
          "",
          "",
          "",
          "",
          "",
          "",
          "",
          "3_color_rainbow_why"
         ],
         "textfont": {
          "size": 12
         },
         "type": "scattergl",
         "x": [
          -5.1837286949157715,
          -4.719241142272949,
          -4.920620441436768,
          -4.626706600189209,
          -5.156364917755127,
          -4.562119007110596,
          -4.807285785675049,
          -5.032934188842773,
          -4.680221080780029,
          -4.69854736328125,
          -4.623834609985352,
          -4.819236755371094
         ],
         "y": [
          4.557156085968018,
          4.116678237915039,
          4.390414714813232,
          4.4252495765686035,
          4.554619789123535,
          4.252671241760254,
          4.051403045654297,
          4.441466808319092,
          4.142553329467773,
          4.114107608795166,
          4.242021083831787,
          4.298940181732178
         ]
        },
        {
         "hoverinfo": "text",
         "hovertext": [
          "Which food will you recommend me to try?",
          "Hi!! I like fish and chips, what is your favorite food?",
          "What is your favorite food?",
          "What is the best food you have ever eaten?",
          "Do you have a favorite food?",
          "Which is the food you like the most?",
          "My favorite food is pizza, and yours?",
          "Which is your favorite food?",
          "What kind of food do you prefer to eat?",
          "If you must choose a food to eat, which one will it be?",
          null
         ],
         "marker": {
          "opacity": 0.5,
          "size": 5
         },
         "mode": "markers+text",
         "name": "4_food_eat_will",
         "text": [
          "",
          "",
          "",
          "",
          "",
          "",
          "",
          "",
          "",
          "",
          "4_food_eat_will"
         ],
         "textfont": {
          "size": 12
         },
         "type": "scattergl",
         "x": [
          -3.1101129055023193,
          -2.836549758911133,
          -2.8490450382232666,
          -3.1497280597686768,
          -3.2541251182556152,
          -3.158240795135498,
          -2.9191601276397705,
          -3.0079405307769775,
          -3.1082794666290283,
          -3.1629786491394043,
          -3.0556161403656006
         ],
         "y": [
          9.453980445861816,
          9.451695442199707,
          9.39165210723877,
          9.36531925201416,
          9.130416870117188,
          9.54963493347168,
          9.577771186828613,
          9.360796928405762,
          9.49742317199707,
          9.416948318481445,
          9.419563293457031
         ]
        },
        {
         "hoverinfo": "text",
         "hovertext": [
          "Who singer do you like to listen to?",
          "My favorite singer is Michael Jackson, and yours?",
          "Which singer do you think is the best?",
          "Hi!! I like music, who is your favorite singer?",
          "Who is the singer do you like the most?",
          "Which singer is your favorite one?",
          "Who is your favorite singer?",
          "Which is the singer you like the most?",
          "Who is your preferred singer?",
          null
         ],
         "marker": {
          "opacity": 0.5,
          "size": 5
         },
         "mode": "markers+text",
         "name": "5_singer_who_is",
         "text": [
          "",
          "",
          "",
          "",
          "",
          "",
          "",
          "",
          "",
          "5_singer_who_is"
         ],
         "textfont": {
          "size": 12
         },
         "type": "scattergl",
         "x": [
          14.047575950622559,
          13.666290283203125,
          13.751531600952148,
          14.059332847595215,
          13.935417175292969,
          13.762176513671875,
          13.893576622009277,
          13.954248428344727,
          13.848647117614746,
          13.879865646362305
         ],
         "y": [
          0.8974828124046326,
          0.6866099834442139,
          0.6318457722663879,
          0.661896824836731,
          0.7790365219116211,
          0.6906293630599976,
          0.8609441518783569,
          0.9220936298370361,
          0.8051864504814148,
          0.7706361413002014
         ]
        },
        {
         "hoverinfo": "text",
         "hovertext": [
          "Who do you think is the best actor?",
          "Hi!! I like watching movies, who is your favorite actor?",
          "Do you have any favorite actor?",
          "My favorite actor is Brad Pitt, and yours?",
          "Which is the actor you like the most?",
          "I enjoy watching movies of George Clooney, what about you?",
          "Who is your preferred actor?",
          "Which actor is your preferred one?",
          "Who is your favorite actor?",
          null
         ],
         "marker": {
          "opacity": 0.5,
          "size": 5
         },
         "mode": "markers+text",
         "name": "6_actor_watching_movies",
         "text": [
          "",
          "",
          "",
          "",
          "",
          "",
          "",
          "",
          "",
          "6_actor_watching_movies"
         ],
         "textfont": {
          "size": 12
         },
         "type": "scattergl",
         "x": [
          -4.214674472808838,
          -4.106075286865234,
          -4.042739391326904,
          -4.099510669708252,
          -4.253526210784912,
          -4.172586917877197,
          -4.246640682220459,
          -4.322454929351807,
          -4.186549186706543,
          -4.182750701904297
         ],
         "y": [
          21.701435089111328,
          21.74930191040039,
          21.42796516418457,
          21.408676147460938,
          21.740182876586914,
          21.502296447753906,
          21.75336265563965,
          21.583168029785156,
          21.577892303466797,
          21.604921340942383
         ]
        },
        {
         "hoverinfo": "text",
         "hovertext": [
          "Hi!! I like Star Wars, what is your favorite movie?",
          "Which movie will you rate as the best ever?",
          "Which is the movie you like the most?",
          "What is your favorite movie?",
          "Which is your favorite movie?",
          "My favorite movie is Dark Night, and yours?",
          "Which is your favorite film?",
          "Tell me what movie will you recommend me to watch?",
          null
         ],
         "marker": {
          "opacity": 0.5,
          "size": 5
         },
         "mode": "markers+text",
         "name": "7_movie_will_me",
         "text": [
          "",
          "",
          "",
          "",
          "",
          "",
          "",
          "",
          "7_movie_will_me"
         ],
         "textfont": {
          "size": 12
         },
         "type": "scattergl",
         "x": [
          11.195178985595703,
          11.304084777832031,
          11.35698127746582,
          11.184946060180664,
          11.35296630859375,
          11.28152084350586,
          11.204113960266113,
          11.375588417053223,
          11.281922340393066
         ],
         "y": [
          7.049373626708984,
          7.181555271148682,
          7.221307277679443,
          7.0491042137146,
          7.248205184936523,
          7.165358066558838,
          7.132389545440674,
          7.265353679656982,
          7.164080619812012
         ]
        },
        {
         "hoverinfo": "text",
         "hovertext": [
          "Hi!! I like singing, what is your favorite song?",
          "What do you think is the best song ever?",
          "Which is the song you like the most?",
          "What is your favorite song?",
          "Which is your favorite song?",
          "My favorite song is Thriller, and yours?",
          "Do you have a favorite song?",
          null
         ],
         "marker": {
          "opacity": 0.5,
          "size": 5
         },
         "mode": "markers+text",
         "name": "8_song_thriller_singing",
         "text": [
          "",
          "",
          "",
          "",
          "",
          "",
          "",
          "8_song_thriller_singing"
         ],
         "textfont": {
          "size": 12
         },
         "type": "scattergl",
         "x": [
          14.887186050415039,
          15.020654678344727,
          14.86043643951416,
          15.030817031860352,
          14.903947830200195,
          15.012247085571289,
          14.950959205627441,
          14.95232105255127
         ],
         "y": [
          1.0360403060913086,
          1.1619170904159546,
          1.2900067567825317,
          1.0139703750610352,
          1.1033326387405396,
          1.0084617137908936,
          1.1146366596221924,
          1.104052186012268
         ]
        },
        {
         "hoverinfo": "text",
         "hovertext": [
          "My favorite sport is basketball, and yours?",
          "Which is the sport you like the most?",
          "Which is your favorite sport?",
          "Which sport do you love to watch or play?",
          "What is your favorite sport?",
          "Hi!! I like football, what is your favorite sport?",
          "What kind of sport do you like?",
          null
         ],
         "marker": {
          "opacity": 0.5,
          "size": 5
         },
         "mode": "markers+text",
         "name": "9_sport_or_play",
         "text": [
          "",
          "",
          "",
          "",
          "",
          "",
          "",
          "9_sport_or_play"
         ],
         "textfont": {
          "size": 12
         },
         "type": "scattergl",
         "x": [
          -6.073356628417969,
          -5.83762788772583,
          -5.851804733276367,
          -5.891574859619141,
          -5.9032063484191895,
          -5.98436164855957,
          -5.9630560874938965,
          -5.929283618927002
         ],
         "y": [
          11.280067443847656,
          11.039710998535156,
          11.056414604187012,
          11.089584350585938,
          11.104963302612305,
          11.18855094909668,
          11.157966613769531,
          11.131036758422852
         ]
        },
        {
         "hoverinfo": "text",
         "hovertext": [
          "Do you love any type of animal?",
          "Tell me your most loved animal?",
          "What is your favorite animal?",
          "Which animal do you like the most?",
          "What is your most loved kind of animal?",
          null
         ],
         "marker": {
          "opacity": 0.5,
          "size": 5
         },
         "mode": "markers+text",
         "name": "10_animal_loved_most",
         "text": [
          "",
          "",
          "",
          "",
          "",
          "10_animal_loved_most"
         ],
         "textfont": {
          "size": 12
         },
         "type": "scattergl",
         "x": [
          -4.217523097991943,
          -4.281620502471924,
          -4.149916648864746,
          -4.235508441925049,
          -4.189536094665527,
          -4.214820861816406
         ],
         "y": [
          6.093695640563965,
          6.02638578414917,
          6.164914131164551,
          6.075321674346924,
          6.122361660003662,
          6.096535682678223
         ]
        },
        {
         "hoverinfo": "text",
         "hovertext": [
          "What kind of job do you have?",
          "What do you do for work?",
          "What do you do for a living?",
          "What is your job?",
          null
         ],
         "marker": {
          "opacity": 0.5,
          "size": 5
         },
         "mode": "markers+text",
         "name": "11_job_for_do",
         "text": [
          "",
          "",
          "",
          "",
          "11_job_for_do"
         ],
         "textfont": {
          "size": 12
         },
         "type": "scattergl",
         "x": [
          -5.6191606521606445,
          -5.744823455810547,
          -5.667716979980469,
          -5.713293075561523,
          -5.686248302459717
         ],
         "y": [
          9.679105758666992,
          9.831979751586914,
          9.756478309631348,
          9.801682472229004,
          9.767311096191406
         ]
        },
        {
         "hoverinfo": "text",
         "hovertext": [
          "What is your favorite country?",
          "Do you have any favorite country to visit?",
          "Which country would you recommend me to visit?",
          "What is the best country would you recommend for a trip?",
          null
         ],
         "marker": {
          "opacity": 0.5,
          "size": 5
         },
         "mode": "markers+text",
         "name": "12_country_visit_would",
         "text": [
          "",
          "",
          "",
          "",
          "12_country_visit_would"
         ],
         "textfont": {
          "size": 12
         },
         "type": "scattergl",
         "x": [
          -4.282955646514893,
          -4.347906589508057,
          -4.220037460327148,
          -4.252627372741699,
          -4.275881767272949
         ],
         "y": [
          9.697402954101562,
          9.781944274902344,
          9.642769813537598,
          9.640140533447266,
          9.690564155578613
         ]
        }
       ],
       "layout": {
        "annotations": [
         {
          "showarrow": false,
          "text": "D1",
          "x": -9.07672860622406,
          "y": 12.776717980206014,
          "yshift": 10
         },
         {
          "showarrow": false,
          "text": "D2",
          "x": 4.104355490207673,
          "xshift": 10,
          "y": 25.016367053985597
         }
        ],
        "height": 750,
        "shapes": [
         {
          "line": {
           "color": "#CFD8DC",
           "width": 2
          },
          "type": "line",
          "x0": 4.104355490207673,
          "x1": 4.104355490207673,
          "y0": 0.5370689064264298,
          "y1": 25.016367053985597
         },
         {
          "line": {
           "color": "#9E9E9E",
           "width": 2
          },
          "type": "line",
          "x0": -9.07672860622406,
          "x1": 17.285439586639406,
          "y0": 12.776717980206014,
          "y1": 12.776717980206014
         }
        ],
        "template": {
         "data": {
          "bar": [
           {
            "error_x": {
             "color": "rgb(36,36,36)"
            },
            "error_y": {
             "color": "rgb(36,36,36)"
            },
            "marker": {
             "line": {
              "color": "white",
              "width": 0.5
             },
             "pattern": {
              "fillmode": "overlay",
              "size": 10,
              "solidity": 0.2
             }
            },
            "type": "bar"
           }
          ],
          "barpolar": [
           {
            "marker": {
             "line": {
              "color": "white",
              "width": 0.5
             },
             "pattern": {
              "fillmode": "overlay",
              "size": 10,
              "solidity": 0.2
             }
            },
            "type": "barpolar"
           }
          ],
          "carpet": [
           {
            "aaxis": {
             "endlinecolor": "rgb(36,36,36)",
             "gridcolor": "white",
             "linecolor": "white",
             "minorgridcolor": "white",
             "startlinecolor": "rgb(36,36,36)"
            },
            "baxis": {
             "endlinecolor": "rgb(36,36,36)",
             "gridcolor": "white",
             "linecolor": "white",
             "minorgridcolor": "white",
             "startlinecolor": "rgb(36,36,36)"
            },
            "type": "carpet"
           }
          ],
          "choropleth": [
           {
            "colorbar": {
             "outlinewidth": 1,
             "tickcolor": "rgb(36,36,36)",
             "ticks": "outside"
            },
            "type": "choropleth"
           }
          ],
          "contour": [
           {
            "colorbar": {
             "outlinewidth": 1,
             "tickcolor": "rgb(36,36,36)",
             "ticks": "outside"
            },
            "colorscale": [
             [
              0,
              "#440154"
             ],
             [
              0.1111111111111111,
              "#482878"
             ],
             [
              0.2222222222222222,
              "#3e4989"
             ],
             [
              0.3333333333333333,
              "#31688e"
             ],
             [
              0.4444444444444444,
              "#26828e"
             ],
             [
              0.5555555555555556,
              "#1f9e89"
             ],
             [
              0.6666666666666666,
              "#35b779"
             ],
             [
              0.7777777777777778,
              "#6ece58"
             ],
             [
              0.8888888888888888,
              "#b5de2b"
             ],
             [
              1,
              "#fde725"
             ]
            ],
            "type": "contour"
           }
          ],
          "contourcarpet": [
           {
            "colorbar": {
             "outlinewidth": 1,
             "tickcolor": "rgb(36,36,36)",
             "ticks": "outside"
            },
            "type": "contourcarpet"
           }
          ],
          "heatmap": [
           {
            "colorbar": {
             "outlinewidth": 1,
             "tickcolor": "rgb(36,36,36)",
             "ticks": "outside"
            },
            "colorscale": [
             [
              0,
              "#440154"
             ],
             [
              0.1111111111111111,
              "#482878"
             ],
             [
              0.2222222222222222,
              "#3e4989"
             ],
             [
              0.3333333333333333,
              "#31688e"
             ],
             [
              0.4444444444444444,
              "#26828e"
             ],
             [
              0.5555555555555556,
              "#1f9e89"
             ],
             [
              0.6666666666666666,
              "#35b779"
             ],
             [
              0.7777777777777778,
              "#6ece58"
             ],
             [
              0.8888888888888888,
              "#b5de2b"
             ],
             [
              1,
              "#fde725"
             ]
            ],
            "type": "heatmap"
           }
          ],
          "heatmapgl": [
           {
            "colorbar": {
             "outlinewidth": 1,
             "tickcolor": "rgb(36,36,36)",
             "ticks": "outside"
            },
            "colorscale": [
             [
              0,
              "#440154"
             ],
             [
              0.1111111111111111,
              "#482878"
             ],
             [
              0.2222222222222222,
              "#3e4989"
             ],
             [
              0.3333333333333333,
              "#31688e"
             ],
             [
              0.4444444444444444,
              "#26828e"
             ],
             [
              0.5555555555555556,
              "#1f9e89"
             ],
             [
              0.6666666666666666,
              "#35b779"
             ],
             [
              0.7777777777777778,
              "#6ece58"
             ],
             [
              0.8888888888888888,
              "#b5de2b"
             ],
             [
              1,
              "#fde725"
             ]
            ],
            "type": "heatmapgl"
           }
          ],
          "histogram": [
           {
            "marker": {
             "line": {
              "color": "white",
              "width": 0.6
             }
            },
            "type": "histogram"
           }
          ],
          "histogram2d": [
           {
            "colorbar": {
             "outlinewidth": 1,
             "tickcolor": "rgb(36,36,36)",
             "ticks": "outside"
            },
            "colorscale": [
             [
              0,
              "#440154"
             ],
             [
              0.1111111111111111,
              "#482878"
             ],
             [
              0.2222222222222222,
              "#3e4989"
             ],
             [
              0.3333333333333333,
              "#31688e"
             ],
             [
              0.4444444444444444,
              "#26828e"
             ],
             [
              0.5555555555555556,
              "#1f9e89"
             ],
             [
              0.6666666666666666,
              "#35b779"
             ],
             [
              0.7777777777777778,
              "#6ece58"
             ],
             [
              0.8888888888888888,
              "#b5de2b"
             ],
             [
              1,
              "#fde725"
             ]
            ],
            "type": "histogram2d"
           }
          ],
          "histogram2dcontour": [
           {
            "colorbar": {
             "outlinewidth": 1,
             "tickcolor": "rgb(36,36,36)",
             "ticks": "outside"
            },
            "colorscale": [
             [
              0,
              "#440154"
             ],
             [
              0.1111111111111111,
              "#482878"
             ],
             [
              0.2222222222222222,
              "#3e4989"
             ],
             [
              0.3333333333333333,
              "#31688e"
             ],
             [
              0.4444444444444444,
              "#26828e"
             ],
             [
              0.5555555555555556,
              "#1f9e89"
             ],
             [
              0.6666666666666666,
              "#35b779"
             ],
             [
              0.7777777777777778,
              "#6ece58"
             ],
             [
              0.8888888888888888,
              "#b5de2b"
             ],
             [
              1,
              "#fde725"
             ]
            ],
            "type": "histogram2dcontour"
           }
          ],
          "mesh3d": [
           {
            "colorbar": {
             "outlinewidth": 1,
             "tickcolor": "rgb(36,36,36)",
             "ticks": "outside"
            },
            "type": "mesh3d"
           }
          ],
          "parcoords": [
           {
            "line": {
             "colorbar": {
              "outlinewidth": 1,
              "tickcolor": "rgb(36,36,36)",
              "ticks": "outside"
             }
            },
            "type": "parcoords"
           }
          ],
          "pie": [
           {
            "automargin": true,
            "type": "pie"
           }
          ],
          "scatter": [
           {
            "marker": {
             "colorbar": {
              "outlinewidth": 1,
              "tickcolor": "rgb(36,36,36)",
              "ticks": "outside"
             }
            },
            "type": "scatter"
           }
          ],
          "scatter3d": [
           {
            "line": {
             "colorbar": {
              "outlinewidth": 1,
              "tickcolor": "rgb(36,36,36)",
              "ticks": "outside"
             }
            },
            "marker": {
             "colorbar": {
              "outlinewidth": 1,
              "tickcolor": "rgb(36,36,36)",
              "ticks": "outside"
             }
            },
            "type": "scatter3d"
           }
          ],
          "scattercarpet": [
           {
            "marker": {
             "colorbar": {
              "outlinewidth": 1,
              "tickcolor": "rgb(36,36,36)",
              "ticks": "outside"
             }
            },
            "type": "scattercarpet"
           }
          ],
          "scattergeo": [
           {
            "marker": {
             "colorbar": {
              "outlinewidth": 1,
              "tickcolor": "rgb(36,36,36)",
              "ticks": "outside"
             }
            },
            "type": "scattergeo"
           }
          ],
          "scattergl": [
           {
            "marker": {
             "colorbar": {
              "outlinewidth": 1,
              "tickcolor": "rgb(36,36,36)",
              "ticks": "outside"
             }
            },
            "type": "scattergl"
           }
          ],
          "scattermapbox": [
           {
            "marker": {
             "colorbar": {
              "outlinewidth": 1,
              "tickcolor": "rgb(36,36,36)",
              "ticks": "outside"
             }
            },
            "type": "scattermapbox"
           }
          ],
          "scatterpolar": [
           {
            "marker": {
             "colorbar": {
              "outlinewidth": 1,
              "tickcolor": "rgb(36,36,36)",
              "ticks": "outside"
             }
            },
            "type": "scatterpolar"
           }
          ],
          "scatterpolargl": [
           {
            "marker": {
             "colorbar": {
              "outlinewidth": 1,
              "tickcolor": "rgb(36,36,36)",
              "ticks": "outside"
             }
            },
            "type": "scatterpolargl"
           }
          ],
          "scatterternary": [
           {
            "marker": {
             "colorbar": {
              "outlinewidth": 1,
              "tickcolor": "rgb(36,36,36)",
              "ticks": "outside"
             }
            },
            "type": "scatterternary"
           }
          ],
          "surface": [
           {
            "colorbar": {
             "outlinewidth": 1,
             "tickcolor": "rgb(36,36,36)",
             "ticks": "outside"
            },
            "colorscale": [
             [
              0,
              "#440154"
             ],
             [
              0.1111111111111111,
              "#482878"
             ],
             [
              0.2222222222222222,
              "#3e4989"
             ],
             [
              0.3333333333333333,
              "#31688e"
             ],
             [
              0.4444444444444444,
              "#26828e"
             ],
             [
              0.5555555555555556,
              "#1f9e89"
             ],
             [
              0.6666666666666666,
              "#35b779"
             ],
             [
              0.7777777777777778,
              "#6ece58"
             ],
             [
              0.8888888888888888,
              "#b5de2b"
             ],
             [
              1,
              "#fde725"
             ]
            ],
            "type": "surface"
           }
          ],
          "table": [
           {
            "cells": {
             "fill": {
              "color": "rgb(237,237,237)"
             },
             "line": {
              "color": "white"
             }
            },
            "header": {
             "fill": {
              "color": "rgb(217,217,217)"
             },
             "line": {
              "color": "white"
             }
            },
            "type": "table"
           }
          ]
         },
         "layout": {
          "annotationdefaults": {
           "arrowhead": 0,
           "arrowwidth": 1
          },
          "autotypenumbers": "strict",
          "coloraxis": {
           "colorbar": {
            "outlinewidth": 1,
            "tickcolor": "rgb(36,36,36)",
            "ticks": "outside"
           }
          },
          "colorscale": {
           "diverging": [
            [
             0,
             "rgb(103,0,31)"
            ],
            [
             0.1,
             "rgb(178,24,43)"
            ],
            [
             0.2,
             "rgb(214,96,77)"
            ],
            [
             0.3,
             "rgb(244,165,130)"
            ],
            [
             0.4,
             "rgb(253,219,199)"
            ],
            [
             0.5,
             "rgb(247,247,247)"
            ],
            [
             0.6,
             "rgb(209,229,240)"
            ],
            [
             0.7,
             "rgb(146,197,222)"
            ],
            [
             0.8,
             "rgb(67,147,195)"
            ],
            [
             0.9,
             "rgb(33,102,172)"
            ],
            [
             1,
             "rgb(5,48,97)"
            ]
           ],
           "sequential": [
            [
             0,
             "#440154"
            ],
            [
             0.1111111111111111,
             "#482878"
            ],
            [
             0.2222222222222222,
             "#3e4989"
            ],
            [
             0.3333333333333333,
             "#31688e"
            ],
            [
             0.4444444444444444,
             "#26828e"
            ],
            [
             0.5555555555555556,
             "#1f9e89"
            ],
            [
             0.6666666666666666,
             "#35b779"
            ],
            [
             0.7777777777777778,
             "#6ece58"
            ],
            [
             0.8888888888888888,
             "#b5de2b"
            ],
            [
             1,
             "#fde725"
            ]
           ],
           "sequentialminus": [
            [
             0,
             "#440154"
            ],
            [
             0.1111111111111111,
             "#482878"
            ],
            [
             0.2222222222222222,
             "#3e4989"
            ],
            [
             0.3333333333333333,
             "#31688e"
            ],
            [
             0.4444444444444444,
             "#26828e"
            ],
            [
             0.5555555555555556,
             "#1f9e89"
            ],
            [
             0.6666666666666666,
             "#35b779"
            ],
            [
             0.7777777777777778,
             "#6ece58"
            ],
            [
             0.8888888888888888,
             "#b5de2b"
            ],
            [
             1,
             "#fde725"
            ]
           ]
          },
          "colorway": [
           "#1F77B4",
           "#FF7F0E",
           "#2CA02C",
           "#D62728",
           "#9467BD",
           "#8C564B",
           "#E377C2",
           "#7F7F7F",
           "#BCBD22",
           "#17BECF"
          ],
          "font": {
           "color": "rgb(36,36,36)"
          },
          "geo": {
           "bgcolor": "white",
           "lakecolor": "white",
           "landcolor": "white",
           "showlakes": true,
           "showland": true,
           "subunitcolor": "white"
          },
          "hoverlabel": {
           "align": "left"
          },
          "hovermode": "closest",
          "mapbox": {
           "style": "light"
          },
          "paper_bgcolor": "white",
          "plot_bgcolor": "white",
          "polar": {
           "angularaxis": {
            "gridcolor": "rgb(232,232,232)",
            "linecolor": "rgb(36,36,36)",
            "showgrid": false,
            "showline": true,
            "ticks": "outside"
           },
           "bgcolor": "white",
           "radialaxis": {
            "gridcolor": "rgb(232,232,232)",
            "linecolor": "rgb(36,36,36)",
            "showgrid": false,
            "showline": true,
            "ticks": "outside"
           }
          },
          "scene": {
           "xaxis": {
            "backgroundcolor": "white",
            "gridcolor": "rgb(232,232,232)",
            "gridwidth": 2,
            "linecolor": "rgb(36,36,36)",
            "showbackground": true,
            "showgrid": false,
            "showline": true,
            "ticks": "outside",
            "zeroline": false,
            "zerolinecolor": "rgb(36,36,36)"
           },
           "yaxis": {
            "backgroundcolor": "white",
            "gridcolor": "rgb(232,232,232)",
            "gridwidth": 2,
            "linecolor": "rgb(36,36,36)",
            "showbackground": true,
            "showgrid": false,
            "showline": true,
            "ticks": "outside",
            "zeroline": false,
            "zerolinecolor": "rgb(36,36,36)"
           },
           "zaxis": {
            "backgroundcolor": "white",
            "gridcolor": "rgb(232,232,232)",
            "gridwidth": 2,
            "linecolor": "rgb(36,36,36)",
            "showbackground": true,
            "showgrid": false,
            "showline": true,
            "ticks": "outside",
            "zeroline": false,
            "zerolinecolor": "rgb(36,36,36)"
           }
          },
          "shapedefaults": {
           "fillcolor": "black",
           "line": {
            "width": 0
           },
           "opacity": 0.3
          },
          "ternary": {
           "aaxis": {
            "gridcolor": "rgb(232,232,232)",
            "linecolor": "rgb(36,36,36)",
            "showgrid": false,
            "showline": true,
            "ticks": "outside"
           },
           "baxis": {
            "gridcolor": "rgb(232,232,232)",
            "linecolor": "rgb(36,36,36)",
            "showgrid": false,
            "showline": true,
            "ticks": "outside"
           },
           "bgcolor": "white",
           "caxis": {
            "gridcolor": "rgb(232,232,232)",
            "linecolor": "rgb(36,36,36)",
            "showgrid": false,
            "showline": true,
            "ticks": "outside"
           }
          },
          "title": {
           "x": 0.05
          },
          "xaxis": {
           "automargin": true,
           "gridcolor": "rgb(232,232,232)",
           "linecolor": "rgb(36,36,36)",
           "showgrid": false,
           "showline": true,
           "ticks": "outside",
           "title": {
            "standoff": 15
           },
           "zeroline": false,
           "zerolinecolor": "rgb(36,36,36)"
          },
          "yaxis": {
           "automargin": true,
           "gridcolor": "rgb(232,232,232)",
           "linecolor": "rgb(36,36,36)",
           "showgrid": false,
           "showline": true,
           "ticks": "outside",
           "title": {
            "standoff": 15
           },
           "zeroline": false,
           "zerolinecolor": "rgb(36,36,36)"
          }
         }
        },
        "title": {
         "font": {
          "color": "Black",
          "size": 22
         },
         "text": "<b>Documents and Topics",
         "x": 0.5,
         "xanchor": "center",
         "yanchor": "top"
        },
        "width": 1200,
        "xaxis": {
         "visible": false
        },
        "yaxis": {
         "visible": false
        }
       }
      }
     },
     "metadata": {},
     "output_type": "display_data"
    }
   ],
   "source": [
    "topic_model.visualize_documents(data_user_questions, embeddings=embeddings)"
   ]
  },
  {
   "cell_type": "code",
   "execution_count": 41,
   "metadata": {},
   "outputs": [
    {
     "name": "stdout",
     "output_type": "stream",
     "text": [
      "Reading tab Seeker (Meta)\n",
      "Reading tab DialoGPT-Large\n",
      "Reading tab BlenderBot_3B\n",
      "Reading tab BlenderBotV2\n",
      "0.46288866599799394\n",
      "0.55\n"
     ]
    }
   ],
   "source": [
    "from nltk.metrics.agreement import AnnotationTask\n",
    "\n",
    "tabs = ['Seeker (Meta)', 'DialoGPT-Large', 'BlenderBot_3B', 'BlenderBotV2']\n",
    "# annotators = ['LFD', 'MEG', 'MRC', 'JMP']\n",
    "annotators = ['LFD', 'JMP']\n",
    "annotations = list()\n",
    "for i, t in enumerate(tabs):\n",
    "    print('Reading tab {}'.format(t))\n",
    "    data = pd.read_excel(DATA_PATH, sheet_name=t)\n",
    "    data = data.dropna(subset=['Id'])\n",
    "    for j, annotator in enumerate(annotators):\n",
    "        data_annotator = data.dropna(subset=[annotator])\n",
    "        for k, d in enumerate(data_annotator[annotator]):\n",
    "            annotations.append((annotator, 't_{}_{}'.format(i, k), d))\n",
    "a = AnnotationTask(annotations)\n",
    "print(a.alpha())\n",
    "print(a.avg_Ao())"
   ]
  },
  {
   "cell_type": "code",
   "execution_count": 59,
   "metadata": {},
   "outputs": [
    {
     "name": "stdout",
     "output_type": "stream",
     "text": [
      "Reading tab Seeker (Meta)\n",
      "Reading tab DialoGPT-Large\n",
      "Reading tab BlenderBot_3B\n",
      "Reading tab BlenderBotV2\n"
     ]
    }
   ],
   "source": [
    "tabs = ['Seeker (Meta)', 'DialoGPT-Large', 'BlenderBot_3B', 'BlenderBotV2']\n",
    "annotators = ['LFD', 'MEG', 'MRC', 'JMP']\n",
    "# annotators = ['LFD', 'JMP']\n",
    "info = list()\n",
    "dict_info = dict()\n",
    "for i, t in enumerate(tabs):\n",
    "    print('Reading tab {}'.format(t))\n",
    "    data = pd.read_excel(DATA_PATH, sheet_name=t)\n",
    "    data = data.dropna(subset=['Id'])\n",
    "    for j, annotator in enumerate(annotators):\n",
    "        data_annotator = data.dropna(subset=[annotator])\n",
    "        if annotator not in dict_info:\n",
    "            dict_info[annotator] = list() \n",
    "        info_annotator = list()\n",
    "        for k, d in enumerate(data_annotator[annotator]):\n",
    "            info_annotator.append(int(d))\n",
    "        dict_info[annotator] += info_annotator\n",
    "for annotator in annotators:\n",
    "    info.append(dict_info[annotator])\n"
   ]
  },
  {
   "cell_type": "code",
   "execution_count": 61,
   "metadata": {},
   "outputs": [
    {
     "data": {
      "text/plain": [
       "0.6787325235959526"
      ]
     },
     "execution_count": 61,
     "metadata": {},
     "output_type": "execute_result"
    }
   ],
   "source": [
    "import krippendorff\n",
    "\n",
    "krippendorff.alpha(reliability_data=info, value_domain=[1, 2, 3, 4, 5, 6, 7, 8, 9])"
   ]
  }
 ],
 "metadata": {
  "kernelspec": {
   "display_name": "Python 3.9.13 64-bit (windows store)",
   "language": "python",
   "name": "python3"
  },
  "language_info": {
   "codemirror_mode": {
    "name": "ipython",
    "version": 3
   },
   "file_extension": ".py",
   "mimetype": "text/x-python",
   "name": "python",
   "nbconvert_exporter": "python",
   "pygments_lexer": "ipython3",
   "version": "3.9.13"
  },
  "orig_nbformat": 4,
  "vscode": {
   "interpreter": {
    "hash": "1c4cc1e3c1745df56aa271c6f4a84adb636c7a38852180e9c958396b3b96088a"
   }
  }
 },
 "nbformat": 4,
 "nbformat_minor": 2
}
